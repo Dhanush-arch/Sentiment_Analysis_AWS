{
 "cells": [
  {
   "cell_type": "markdown",
   "metadata": {},
   "source": [
    "# Creating a Sentiment Analysis Web App\n",
    "## Using PyTorch and SageMaker\n",
    "\n",
    "_Deep Learning Nanodegree Program | Deployment_\n",
    "\n",
    "---\n",
    "\n",
    "Now that we have a basic understanding of how SageMaker works we will try to use it to construct a complete project from end to end. Our goal will be to have a simple web page which a user can use to enter a movie review. The web page will then send the review off to our deployed model which will predict the sentiment of the entered review.\n",
    "\n",
    "## Instructions\n",
    "\n",
    "Some template code has already been provided for you, and you will need to implement additional functionality to successfully complete this notebook. You will not need to modify the included code beyond what is requested. Sections that begin with '**TODO**' in the header indicate that you need to complete or implement some portion within them. Instructions will be provided for each section and the specifics of the implementation are marked in the code block with a `# TODO: ...` comment. Please be sure to read the instructions carefully!\n",
    "\n",
    "In addition to implementing code, there will be questions for you to answer which relate to the task and your implementation. Each section where you will answer a question is preceded by a '**Question:**' header. Carefully read each question and provide your answer below the '**Answer:**' header by editing the Markdown cell.\n",
    "\n",
    "> **Note**: Code and Markdown cells can be executed using the **Shift+Enter** keyboard shortcut. In addition, a cell can be edited by typically clicking it (double-click for Markdown cells) or by pressing **Enter** while it is highlighted.\n",
    "\n",
    "## General Outline\n",
    "\n",
    "Recall the general outline for SageMaker projects using a notebook instance.\n",
    "\n",
    "1. Download or otherwise retrieve the data.\n",
    "2. Process / Prepare the data.\n",
    "3. Upload the processed data to S3.\n",
    "4. Train a chosen model.\n",
    "5. Test the trained model (typically using a batch transform job).\n",
    "6. Deploy the trained model.\n",
    "7. Use the deployed model.\n",
    "\n",
    "For this project, you will be following the steps in the general outline with some modifications. \n",
    "\n",
    "First, you will not be testing the model in its own step. You will still be testing the model, however, you will do it by deploying your model and then using the deployed model by sending the test data to it. One of the reasons for doing this is so that you can make sure that your deployed model is working correctly before moving forward.\n",
    "\n",
    "In addition, you will deploy and use your trained model a second time. In the second iteration you will customize the way that your trained model is deployed by including some of your own code. In addition, your newly deployed model will be used in the sentiment analysis web app."
   ]
  },
  {
   "cell_type": "markdown",
   "metadata": {},
   "source": [
    "## Step 1: Downloading the data\n",
    "\n",
    "As in the XGBoost in SageMaker notebook, we will be using the [IMDb dataset](http://ai.stanford.edu/~amaas/data/sentiment/)\n",
    "\n",
    "> Maas, Andrew L., et al. [Learning Word Vectors for Sentiment Analysis](http://ai.stanford.edu/~amaas/data/sentiment/). In _Proceedings of the 49th Annual Meeting of the Association for Computational Linguistics: Human Language Technologies_. Association for Computational Linguistics, 2011."
   ]
  },
  {
   "cell_type": "code",
   "execution_count": 1,
   "metadata": {},
   "outputs": [
    {
     "name": "stdout",
     "output_type": "stream",
     "text": [
      "--2020-05-13 06:31:12--  http://ai.stanford.edu/~amaas/data/sentiment/aclImdb_v1.tar.gz\n",
      "Resolving ai.stanford.edu (ai.stanford.edu)... 171.64.68.10\n",
      "Connecting to ai.stanford.edu (ai.stanford.edu)|171.64.68.10|:80... connected.\n",
      "HTTP request sent, awaiting response... 200 OK\n",
      "Length: 84125825 (80M) [application/x-gzip]\n",
      "Saving to: ‘../data/aclImdb_v1.tar.gz’\n",
      "\n",
      "../data/aclImdb_v1. 100%[===================>]  80.23M  23.1MB/s    in 4.6s    \n",
      "\n",
      "2020-05-13 06:31:17 (17.6 MB/s) - ‘../data/aclImdb_v1.tar.gz’ saved [84125825/84125825]\n",
      "\n"
     ]
    }
   ],
   "source": [
    "%mkdir ../data\n",
    "!wget -O ../data/aclImdb_v1.tar.gz http://ai.stanford.edu/~amaas/data/sentiment/aclImdb_v1.tar.gz\n",
    "!tar -zxf ../data/aclImdb_v1.tar.gz -C ../data"
   ]
  },
  {
   "cell_type": "markdown",
   "metadata": {},
   "source": [
    "## Step 2: Preparing and Processing the data\n",
    "\n",
    "Also, as in the XGBoost notebook, we will be doing some initial data processing. The first few steps are the same as in the XGBoost example. To begin with, we will read in each of the reviews and combine them into a single input structure. Then, we will split the dataset into a training set and a testing set."
   ]
  },
  {
   "cell_type": "code",
   "execution_count": 2,
   "metadata": {},
   "outputs": [],
   "source": [
    "import os\n",
    "import glob\n",
    "\n",
    "def read_imdb_data(data_dir='../data/aclImdb'):\n",
    "    data = {}\n",
    "    labels = {}\n",
    "    \n",
    "    for data_type in ['train', 'test']:\n",
    "        data[data_type] = {}\n",
    "        labels[data_type] = {}\n",
    "        \n",
    "        for sentiment in ['pos', 'neg']:\n",
    "            data[data_type][sentiment] = []\n",
    "            labels[data_type][sentiment] = []\n",
    "            \n",
    "            path = os.path.join(data_dir, data_type, sentiment, '*.txt')\n",
    "            files = glob.glob(path)\n",
    "            \n",
    "            for f in files:\n",
    "                with open(f) as review:\n",
    "                    data[data_type][sentiment].append(review.read())\n",
    "                    # Here we represent a positive review by '1' and a negative review by '0'\n",
    "                    labels[data_type][sentiment].append(1 if sentiment == 'pos' else 0)\n",
    "                    \n",
    "            assert len(data[data_type][sentiment]) == len(labels[data_type][sentiment]), \\\n",
    "                    \"{}/{} data size does not match labels size\".format(data_type, sentiment)\n",
    "                \n",
    "    return data, labels"
   ]
  },
  {
   "cell_type": "code",
   "execution_count": 3,
   "metadata": {},
   "outputs": [
    {
     "name": "stdout",
     "output_type": "stream",
     "text": [
      "IMDB reviews: train = 12500 pos / 12500 neg, test = 12500 pos / 12500 neg\n"
     ]
    }
   ],
   "source": [
    "data, labels = read_imdb_data()\n",
    "print(\"IMDB reviews: train = {} pos / {} neg, test = {} pos / {} neg\".format(\n",
    "            len(data['train']['pos']), len(data['train']['neg']),\n",
    "            len(data['test']['pos']), len(data['test']['neg'])))"
   ]
  },
  {
   "cell_type": "markdown",
   "metadata": {},
   "source": [
    "Now that we've read the raw training and testing data from the downloaded dataset, we will combine the positive and negative reviews and shuffle the resulting records."
   ]
  },
  {
   "cell_type": "code",
   "execution_count": 4,
   "metadata": {},
   "outputs": [],
   "source": [
    "from sklearn.utils import shuffle\n",
    "\n",
    "def prepare_imdb_data(data, labels):\n",
    "    \"\"\"Prepare training and test sets from IMDb movie reviews.\"\"\"\n",
    "    \n",
    "    #Combine positive and negative reviews and labels\n",
    "    data_train = data['train']['pos'] + data['train']['neg']\n",
    "    data_test = data['test']['pos'] + data['test']['neg']\n",
    "    labels_train = labels['train']['pos'] + labels['train']['neg']\n",
    "    labels_test = labels['test']['pos'] + labels['test']['neg']\n",
    "    \n",
    "    #Shuffle reviews and corresponding labels within training and test sets\n",
    "    data_train, labels_train = shuffle(data_train, labels_train)\n",
    "    data_test, labels_test = shuffle(data_test, labels_test)\n",
    "    \n",
    "    # Return a unified training data, test data, training labels, test labets\n",
    "    return data_train, data_test, labels_train, labels_test"
   ]
  },
  {
   "cell_type": "code",
   "execution_count": 5,
   "metadata": {},
   "outputs": [
    {
     "name": "stdout",
     "output_type": "stream",
     "text": [
      "IMDb reviews (combined): train = 25000, test = 25000\n"
     ]
    }
   ],
   "source": [
    "train_X, test_X, train_y, test_y = prepare_imdb_data(data, labels)\n",
    "print(\"IMDb reviews (combined): train = {}, test = {}\".format(len(train_X), len(test_X)))"
   ]
  },
  {
   "cell_type": "markdown",
   "metadata": {},
   "source": [
    "Now that we have our training and testing sets unified and prepared, we should do a quick check and see an example of the data our model will be trained on. This is generally a good idea as it allows you to see how each of the further processing steps affects the reviews and it also ensures that the data has been loaded correctly."
   ]
  },
  {
   "cell_type": "code",
   "execution_count": 6,
   "metadata": {},
   "outputs": [
    {
     "name": "stdout",
     "output_type": "stream",
     "text": [
      "This is an EXCELLENT example of early Bette Davis talent. The production is above average for 1936 timeframe. I cannot understand why the owners of the rights to this film have not put it on DVD. Owners, PLEASE PLEASE release it. I would buy it immediately. I have not seen it in more than thirty years, on television, but remember it well.\n",
      "1\n"
     ]
    }
   ],
   "source": [
    "print(train_X[100])\n",
    "print(train_y[100])"
   ]
  },
  {
   "cell_type": "markdown",
   "metadata": {},
   "source": [
    "The first step in processing the reviews is to make sure that any html tags that appear should be removed. In addition we wish to tokenize our input, that way words such as *entertained* and *entertaining* are considered the same with regard to sentiment analysis."
   ]
  },
  {
   "cell_type": "code",
   "execution_count": 7,
   "metadata": {},
   "outputs": [],
   "source": [
    "import nltk\n",
    "from nltk.corpus import stopwords\n",
    "from nltk.stem.porter import *\n",
    "\n",
    "import re\n",
    "from bs4 import BeautifulSoup\n",
    "\n",
    "def review_to_words(review):\n",
    "    nltk.download(\"stopwords\", quiet=True)\n",
    "    stemmer = PorterStemmer()\n",
    "    \n",
    "    text = BeautifulSoup(review, \"html.parser\").get_text() # Remove HTML tags\n",
    "    text = re.sub(r\"[^a-zA-Z0-9]\", \" \", text.lower()) # Convert to lower case\n",
    "    words = text.split() # Split string into words\n",
    "    words = [w for w in words if w not in stopwords.words(\"english\")] # Remove stopwords\n",
    "    words = [PorterStemmer().stem(w) for w in words] # stem\n",
    "    \n",
    "    return words"
   ]
  },
  {
   "cell_type": "markdown",
   "metadata": {},
   "source": [
    "The `review_to_words` method defined above uses `BeautifulSoup` to remove any html tags that appear and uses the `nltk` package to tokenize the reviews. As a check to ensure we know how everything is working, try applying `review_to_words` to one of the reviews in the training set."
   ]
  },
  {
   "cell_type": "code",
   "execution_count": 9,
   "metadata": {},
   "outputs": [
    {
     "data": {
      "text/plain": [
       "['excel',\n",
       " 'exampl',\n",
       " 'earli',\n",
       " 'bett',\n",
       " 'davi',\n",
       " 'talent',\n",
       " 'product',\n",
       " 'averag',\n",
       " '1936',\n",
       " 'timefram',\n",
       " 'cannot',\n",
       " 'understand',\n",
       " 'owner',\n",
       " 'right',\n",
       " 'film',\n",
       " 'put',\n",
       " 'dvd',\n",
       " 'owner',\n",
       " 'pleas',\n",
       " 'pleas',\n",
       " 'releas',\n",
       " 'would',\n",
       " 'buy',\n",
       " 'immedi',\n",
       " 'seen',\n",
       " 'thirti',\n",
       " 'year',\n",
       " 'televis',\n",
       " 'rememb',\n",
       " 'well']"
      ]
     },
     "execution_count": 9,
     "metadata": {},
     "output_type": "execute_result"
    }
   ],
   "source": [
    "# TODO: Apply review_to_words to a review (train_X[100] or any other review)\n",
    "review_to_words(train_X[100])"
   ]
  },
  {
   "cell_type": "markdown",
   "metadata": {},
   "source": [
    "**Question:** Above we mentioned that `review_to_words` method removes html formatting and allows us to tokenize the words found in a review, for example, converting *entertained* and *entertaining* into *entertain* so that they are treated as though they are the same word. What else, if anything, does this method do to the input?"
   ]
  },
  {
   "cell_type": "markdown",
   "metadata": {},
   "source": [
    "**Answer:**"
   ]
  },
  {
   "cell_type": "markdown",
   "metadata": {},
   "source": [
    "The method below applies the `review_to_words` method to each of the reviews in the training and testing datasets. In addition it caches the results. This is because performing this processing step can take a long time. This way if you are unable to complete the notebook in the current session, you can come back without needing to process the data a second time."
   ]
  },
  {
   "cell_type": "code",
   "execution_count": 10,
   "metadata": {},
   "outputs": [],
   "source": [
    "import pickle\n",
    "\n",
    "cache_dir = os.path.join(\"../cache\", \"sentiment_analysis\")  # where to store cache files\n",
    "os.makedirs(cache_dir, exist_ok=True)  # ensure cache directory exists\n",
    "\n",
    "def preprocess_data(data_train, data_test, labels_train, labels_test,\n",
    "                    cache_dir=cache_dir, cache_file=\"preprocessed_data.pkl\"):\n",
    "    \"\"\"Convert each review to words; read from cache if available.\"\"\"\n",
    "\n",
    "    # If cache_file is not None, try to read from it first\n",
    "    cache_data = None\n",
    "    if cache_file is not None:\n",
    "        try:\n",
    "            with open(os.path.join(cache_dir, cache_file), \"rb\") as f:\n",
    "                cache_data = pickle.load(f)\n",
    "            print(\"Read preprocessed data from cache file:\", cache_file)\n",
    "        except:\n",
    "            pass  # unable to read from cache, but that's okay\n",
    "    \n",
    "    # If cache is missing, then do the heavy lifting\n",
    "    if cache_data is None:\n",
    "        # Preprocess training and test data to obtain words for each review\n",
    "        #words_train = list(map(review_to_words, data_train))\n",
    "        #words_test = list(map(review_to_words, data_test))\n",
    "        words_train = [review_to_words(review) for review in data_train]\n",
    "        words_test = [review_to_words(review) for review in data_test]\n",
    "        \n",
    "        # Write to cache file for future runs\n",
    "        if cache_file is not None:\n",
    "            cache_data = dict(words_train=words_train, words_test=words_test,\n",
    "                              labels_train=labels_train, labels_test=labels_test)\n",
    "            with open(os.path.join(cache_dir, cache_file), \"wb\") as f:\n",
    "                pickle.dump(cache_data, f)\n",
    "            print(\"Wrote preprocessed data to cache file:\", cache_file)\n",
    "    else:\n",
    "        # Unpack data loaded from cache file\n",
    "        words_train, words_test, labels_train, labels_test = (cache_data['words_train'],\n",
    "                cache_data['words_test'], cache_data['labels_train'], cache_data['labels_test'])\n",
    "    \n",
    "    return words_train, words_test, labels_train, labels_test"
   ]
  },
  {
   "cell_type": "code",
   "execution_count": 12,
   "metadata": {},
   "outputs": [
    {
     "name": "stdout",
     "output_type": "stream",
     "text": [
      "Read preprocessed data from cache file: preprocessed_data.pkl\n"
     ]
    }
   ],
   "source": [
    "# Preprocess data\n",
    "train_X, test_X, train_y, test_y = preprocess_data(train_X, test_X, train_y, test_y)"
   ]
  },
  {
   "cell_type": "markdown",
   "metadata": {},
   "source": [
    "## Transform the data\n",
    "\n",
    "In the XGBoost notebook we transformed the data from its word representation to a bag-of-words feature representation. For the model we are going to construct in this notebook we will construct a feature representation which is very similar. To start, we will represent each word as an integer. Of course, some of the words that appear in the reviews occur very infrequently and so likely don't contain much information for the purposes of sentiment analysis. The way we will deal with this problem is that we will fix the size of our working vocabulary and we will only include the words that appear most frequently. We will then combine all of the infrequent words into a single category and, in our case, we will label it as `1`.\n",
    "\n",
    "Since we will be using a recurrent neural network, it will be convenient if the length of each review is the same. To do this, we will fix a size for our reviews and then pad short reviews with the category 'no word' (which we will label `0`) and truncate long reviews."
   ]
  },
  {
   "cell_type": "markdown",
   "metadata": {},
   "source": [
    "### (TODO) Create a word dictionary\n",
    "\n",
    "To begin with, we need to construct a way to map words that appear in the reviews to integers. Here we fix the size of our vocabulary (including the 'no word' and 'infrequent' categories) to be `5000` but you may wish to change this to see how it affects the model.\n",
    "\n",
    "> **TODO:** Complete the implementation for the `build_dict()` method below. Note that even though the vocab_size is set to `5000`, we only want to construct a mapping for the most frequently appearing `4998` words. This is because we want to reserve the special labels `0` for 'no word' and `1` for 'infrequent word'."
   ]
  },
  {
   "cell_type": "code",
   "execution_count": 15,
   "metadata": {},
   "outputs": [],
   "source": [
    "import numpy as np\n",
    "\n",
    "def build_dict(data, vocab_size = 5000):\n",
    "    \"\"\"Construct and return a dictionary mapping each of the most frequently appearing words to a unique integer.\"\"\"\n",
    "    \n",
    "    # TODO: Determine how often each word appears in `data`. Note that `data` is a list of sentences and that a\n",
    "    #       sentence is a list of words.\n",
    "    \n",
    "    word_count = {} # A dict storing the words that appear in the reviews along with how often they occur\n",
    "    for sentence in data:\n",
    "        for word in sentence:\n",
    "            if word not in word_count.keys():\n",
    "                word_count[word] = 1\n",
    "            else:\n",
    "                word_count[word] += 1\n",
    "    # TODO: Sort the words found in `data` so that sorted_words[0] is the most frequently appearing word and\n",
    "    #       sorted_words[-1] is the least frequently appearing word.\n",
    "    \n",
    "    sorted_words = None\n",
    "    sorted_words = []\n",
    "    for time in range(len(word_count)):\n",
    "        max_num = max(list(word_count.values()))\n",
    "        max_word_index = list(word_count.values()).index(max_num)\n",
    "        max_word = list(word_count.keys())[max_word_index]\n",
    "        sorted_words.append(max_word)\n",
    "        del(word_count[max_word])\n",
    "    word_dict = {} # This is what we are building, a dictionary that translates words into integers\n",
    "    for idx, word in enumerate(sorted_words[:vocab_size - 2]): # The -2 is so that we save room for the 'no word'\n",
    "        word_dict[word] = idx + 2                              # 'infrequent' labels\n",
    "        \n",
    "    return word_dict"
   ]
  },
  {
   "cell_type": "code",
   "execution_count": 16,
   "metadata": {},
   "outputs": [],
   "source": [
    "word_dict = build_dict(train_X)"
   ]
  },
  {
   "cell_type": "code",
   "execution_count": 25,
   "metadata": {},
   "outputs": [
    {
     "name": "stdout",
     "output_type": "stream",
     "text": [
      "dict_keys(['movi', 'film', 'one', 'like', 'time', 'good', 'make', 'charact', 'get', 'see', 'watch', 'stori', 'even', 'would', 'realli', 'well', 'scene', 'look', 'show', 'much', 'end', 'peopl', 'bad', 'go', 'great', 'also', 'first', 'love', 'think', 'way', 'act', 'play', 'made', 'thing', 'could', 'know', 'say', 'seem', 'work', 'plot', 'two', 'actor', 'year', 'come', 'mani', 'seen', 'take', 'want', 'life', 'never', 'littl', 'best', 'tri', 'man', 'ever', 'give', 'better', 'still', 'perform', 'find', 'feel', 'part', 'back', 'use', 'someth', 'director', 'actual', 'interest', 'lot', 'real', 'old', 'cast', 'though', 'live', 'star', 'enjoy', 'guy', 'anoth', 'new', 'role', 'noth', '10', 'funni', 'music', 'point', 'start', 'set', 'girl', 'origin', 'day', 'world', 'everi', 'believ', 'turn', 'quit', 'us', 'direct', 'thought', 'fact', 'minut', 'horror', 'kill', 'action', 'comedi', 'pretti', 'young', 'wonder', 'happen', 'around', 'got', 'effect', 'right', 'long', 'howev', 'big', 'line', 'famili', 'enough', 'seri', 'may', 'need', 'fan', 'bit', 'script', 'beauti', 'person', 'becom', 'without', 'must', 'alway', 'friend', 'tell', 'reason', 'saw', 'last', 'final', 'kid', 'almost', 'put', 'least', 'sure', 'done', 'whole', 'place', 'complet', 'kind', 'expect', 'differ', 'shot', 'far', 'mean', 'anyth', 'book', 'laugh', 'might', 'name', 'sinc', 'begin', '2', 'probabl', 'woman', 'help', 'entertain', 'let', 'screen', 'call', 'tv', 'moment', 'away', 'read', 'yet', 'rather', 'worst', 'run', 'fun', 'lead', 'hard', 'audienc', 'idea', 'anyon', 'episod', 'american', 'found', 'appear', 'bore', 'especi', 'although', 'hope', 'keep', 'cours', 'anim', 'job', 'goe', 'move', 'sens', 'dvd', 'version', 'war', 'money', 'someon', 'mind', 'mayb', 'problem', 'true', 'hous', 'everyth', 'nice', 'second', 'rate', 'three', 'night', 'follow', 'face', 'recommend', 'product', 'main', 'worth', 'leav', 'human', 'special', 'excel', 'togeth', 'wast', 'everyon', 'sound', 'john', 'hand', '1', 'father', 'later', 'eye', 'said', 'view', 'instead', 'review', 'boy', 'high', 'hour', 'miss', 'talk', 'classic', 'wife', 'understand', 'left', 'care', 'black', 'death', 'open', 'murder', 'write', 'half', 'head', 'rememb', 'chang', 'viewer', 'fight', 'gener', 'surpris', 'short', 'includ', 'die', 'fall', 'less', 'els', 'entir', 'piec', 'involv', 'pictur', 'simpli', 'top', 'power', 'home', 'total', 'usual', 'budget', 'attempt', 'suppos', 'releas', 'hollywood', 'terribl', 'song', 'men', 'possibl', 'featur', 'portray', 'disappoint', 'poor', '3', 'coupl', 'camera', 'stupid', 'dead', 'wrong', 'produc', 'low', 'video', 'either', 'aw', 'definit', 'except', 'rest', 'given', 'absolut', 'women', 'lack', 'word', 'writer', 'titl', 'talent', 'decid', 'full', 'perfect', 'along', 'style', 'close', 'truli', 'school', 'emot', 'save', 'sex', 'age', 'next', 'bring', 'mr', 'case', 'killer', 'heart', 'comment', 'sort', 'creat', 'perhap', 'came', 'brother', 'sever', 'joke', 'art', 'dialogu', 'game', 'small', 'base', 'flick', 'written', 'sequenc', 'meet', 'earli', 'often', 'other', 'mother', 'develop', 'humor', 'actress', 'consid', 'dark', 'guess', 'amaz', 'unfortun', 'lost', 'light', 'exampl', 'cinema', 'drama', 'white', 'ye', 'experi', 'imagin', 'mention', 'stop', 'natur', 'forc', 'manag', 'felt', 'present', 'cut', 'children', 'fail', 'son', 'qualiti', 'car', 'support', 'ask', 'hit', 'side', 'voic', 'extrem', 'impress', 'wors', 'evil', 'stand', 'went', 'certainli', 'basic', 'oh', 'overal', 'favorit', 'horribl', 'mysteri', 'number', 'type', 'danc', 'wait', 'hero', '5', 'alreadi', 'learn', 'matter', '4', 'michael', 'genr', 'fine', 'despit', 'throughout', 'walk', 'success', 'histori', 'question', 'zombi', 'town', 'realiz', 'relationship', 'past', 'child', 'daughter', 'late', 'b', 'wish', 'hate', 'credit', 'event', 'theme', 'touch', 'citi', 'today', 'sometim', 'behind', 'god', 'twist', 'sit', 'stay', 'annoy', 'deal', 'abl', 'rent', 'pleas', 'edit', 'blood', 'deserv', 'anyway', 'comic', 'appar', 'soon', 'gave', 'etc', 'level', 'slow', 'chanc', 'score', 'bodi', 'brilliant', 'incred', 'figur', 'situat', 'self', 'major', 'stuff', 'decent', 'element', 'dream', 'return', 'obvious', 'order', 'continu', 'pace', 'ridicul', 'happi', 'add', 'highli', 'group', 'thank', 'ladi', 'novel', 'speak', 'pain', 'career', 'shoot', 'strang', 'heard', 'sad', 'polic', 'husband', 'import', 'break', 'took', 'strong', 'cannot', 'robert', 'predict', 'violenc', 'hilari', 'recent', 'countri', 'known', 'particularli', 'pick', 'documentari', 'season', 'critic', 'jame', 'compar', 'alon', 'obviou', 'told', 'state', 'visual', 'rock', 'exist', 'theater', 'offer', 'opinion', 'gore', 'hold', 'crap', 'result', 'realiti', 'hear', 'room', 'effort', 'clich', 'thriller', 'caus', 'serious', 'explain', 'sequel', 'king', 'local', 'ago', 'none', 'hell', 'note', 'allow', 'sister', 'david', 'simpl', 'femal', 'deliv', 'ok', 'class', 'convinc', 'check', 'suspens', 'win', 'buy', 'oscar', 'huge', 'valu', 'sexual', 'scari', 'cool', 'excit', 'similar', 'provid', 'exactli', 'apart', 'avoid', 'shown', 'seriou', 'english', 'whose', 'taken', 'cinematographi', 'shock', 'polit', 'spoiler', 'offic', 'across', 'middl', 'pass', 'street', 'messag', 'somewhat', 'charm', 'silli', 'modern', 'filmmak', 'confus', 'form', 'tale', 'singl', 'jack', 'mostli', 'carri', 'william', 'attent', 'sing', 'subject', 'five', 'prove', 'richard', 'stage', 'team', 'unlik', 'cop', 'georg', 'monster', 'televis', 'earth', 'cover', 'villain', 'pay', 'marri', 'toward', 'build', 'pull', 'parent', 'due', 'fill', 'respect', 'dialog', 'four', 'remind', 'futur', 'typic', 'weak', '7', 'cheap', 'intellig', 'atmospher', 'british', '80', 'clearli', 'non', 'dog', 'paul', 'artist', 'knew', 'fast', '8', 'crime', 'easili', 'escap', 'adult', 'doubt', 'detail', 'date', 'romant', 'member', 'fire', 'drive', 'gun', 'straight', 'fit', 'beyond', 'attack', 'imag', 'upon', 'posit', 'whether', 'peter', 'fantast', 'appreci', 'aspect', 'captur', 'ten', 'plan', 'discov', 'remain', 'period', 'near', 'air', 'realist', 'mark', 'red', 'dull', 'adapt', 'within', 'lose', 'spend', 'materi', 'color', 'chase', 'mari', 'storylin', 'forget', 'bunch', 'clear', 'lee', 'victim', 'nearli', 'box', 'york', 'inspir', 'match', 'finish', 'mess', 'standard', 'easi', 'truth', 'busi', 'suffer', 'bill', 'space', 'dramat', 'western', 'e', 'list', 'battl', 'notic', 'de', 'french', 'ad', '9', 'tom', 'larg', 'among', 'eventu', 'accept', 'train', 'agre', 'spirit', 'soundtrack', 'third', 'teenag', 'adventur', 'soldier', 'sorri', 'suggest', 'famou', 'drug', 'normal', 'babi', 'cri', 'troubl', 'ultim', 'contain', 'certain', 'cultur', 'romanc', 'rare', 'lame', 'somehow', 'disney', 'mix', 'gone', 'cartoon', 'student', 'fear', 'reveal', 'suck', 'kept', 'attract', 'appeal', 'premis', 'greatest', 'secret', 'design', 'shame', 'throw', 'copi', 'scare', 'wit', 'admit', 'america', 'brought', 'relat', 'particular', 'screenplay', 'whatev', 'pure', '70', 'averag', 'harri', 'master', 'describ', 'male', 'treat', '20', 'issu', 'fantasi', 'warn', 'inde', 'forward', 'background', 'free', 'project', 'japanes', 'memor', 'poorli', 'award', 'locat', 'potenti', 'amus', 'struggl', 'weird', 'magic', 'societi', 'okay', 'doctor', 'imdb', 'accent', 'water', 'hot', 'express', 'dr', 'alien', '30', 'odd', 'crazi', 'choic', 'fiction', 'studio', 'control', 'becam', 'masterpiec', 'fli', 'difficult', 'joe', 'scream', 'costum', 'lover', 'refer', 'uniqu', 'remak', 'girlfriend', 'vampir', 'prison', 'execut', 'wear', 'jump', 'unless', 'wood', 'creepi', 'cheesi', 'superb', 'otherwis', 'parti', 'ghost', 'roll', 'public', 'mad', 'depict', 'badli', 'moral', 'week', 'earlier', 'jane', 'dumb', 'fi', 'grow', 'flaw', 'deep', 'sci', 'maker', 'cat', 'footag', 'connect', 'older', 'bother', 'plenti', 'outsid', 'stick', 'gay', 'catch', 'co', 'plu', 'popular', 'equal', 'social', 'quickli', 'disturb', 'perfectli', 'dress', 'era', '90', 'mistak', 'lie', 'previou', 'ride', 'combin', 'band', 'concept', 'surviv', 'rich', 'answer', 'front', 'sweet', 'christma', 'insid', 'concern', 'bare', 'eat', 'beat', 'listen', 'ben', 'c', 'term', 'serv', 'la', 'meant', 'german', 'hardli', 'stereotyp', 'law', 'innoc', 'desper', 'promis', 'memori', 'cute', 'intent', 'inform', 'variou', 'steal', 'brain', 'post', 'tone', 'island', 'amount', 'nuditi', 'compani', 'track', 'claim', 'store', 'flat', 'hair', '50', 'land', 'univers', 'fairli', 'scott', 'danger', 'kick', 'player', 'step', 'plain', 'crew', 'toni', 'share', 'centuri', 'tast', 'engag', 'achiev', 'cold', 'travel', 'record', 'rip', 'suit', 'manner', 'sadli', 'wrote', 'spot', 'tension', 'fascin', 'intens', 'familiar', 'remark', 'depth', 'burn', 'histor', 'destroy', 'sleep', 'purpos', 'languag', 'ruin', 'ignor', 'delight', 'unbeliev', 'italian', 'collect', 'soul', 'abil', 'clever', 'detect', 'violent', 'rape', 'reach', 'door', 'trash', 'liter', 'scienc', 'commun', 'caught', 'reveng', 'creatur', 'trip', 'approach', 'fashion', 'intrigu', 'paint', 'introduc', 'skill', 'complex', 'channel', 'camp', 'christian', 'hole', 'extra', 'mental', 'limit', 'immedi', 'ann', 'comput', 'million', '6', 'slightli', 'mere', 'slasher', 'conclus', 'suddenli', 'imposs', 'neither', 'crimin', 'teen', 'physic', 'spent', 'nation', 'respons', 'planet', 'fake', 'receiv', 'blue', 'sick', 'bizarr', 'embarrass', 'indian', 'ring', '15', 'drop', 'pop', 'drag', 'haunt', 'suspect', 'pointless', 'edg', 'search', 'handl', 'biggest', 'common', 'faith', 'arriv', 'hurt', 'technic', 'angel', 'genuin', 'dad', 'solid', 'f', 'awesom', 'former', 'colleg', 'focu', 'van', 'count', 'tear', 'heavi', 'rais', 'wall', 'visit', 'younger', 'laughabl', 'sign', 'fair', 'excus', 'cult', 'motion', 'key', 'tough', 'desir', 'super', 'addit', 'stun', 'cloth', 'exploit', 'tortur', 'smith', 'race', 'davi', 'cross', 'author', 'jim', 'compel', 'focus', 'minor', 'consist', 'commit', 'chemistri', 'pathet', 'park', 'tradit', 'obsess', 'frank', 'grade', '60', 'asid', 'brutal', 'steve', 'somewher', 'u', 'opportun', 'rule', 'explor', 'grant', 'depress', 'besid', 'honest', 'dub', 'anti', 'trailer', 'intend', 'bar', 'regard', 'longer', 'scientist', 'west', 'judg', 'decad', 'silent', 'creativ', 'armi', 'wild', 'south', 'stewart', 'g', 'draw', 'road', 'govern', 'boss', 'ex', 'practic', 'festiv', 'gang', 'surprisingli', 'club', 'motiv', 'london', 'redeem', 'page', 'green', 'aliv', 'militari', 'machin', 'idiot', 'display', 'thrill', 'repeat', 'yeah', 'nobodi', 'folk', '100', '40', 'journey', 'garbag', 'smile', 'tire', 'ground', 'bought', 'mood', 'cost', 'stone', 'sam', 'mouth', 'noir', 'terrif', 'agent', 'utterli', 'requir', 'area', 'honestli', 'sexi', 'geniu', 'report', 'investig', 'humour', 'glad', 'enter', 'serial', 'occasion', 'narr', 'passion', 'marriag', 'climax', 'studi', 'industri', 'ship', 'demon', 'charli', 'nowher', 'center', 'loos', 'bear', 'hors', 'wow', 'hang', 'graphic', 'giant', 'admir', 'send', 'damn', 'loud', 'rel', 'profession', 'subtl', 'nake', 'blow', 'bottom', 'batman', 'insult', 'boyfriend', 'doubl', 'r', 'kelli', 'initi', 'frame', 'opera', 'gem', 'drawn', 'cinemat', 'challeng', 'affect', 'church', 'evid', 'l', 'fulli', 'seek', 'j', 'nightmar', 'arm', 'essenti', 'conflict', 'grace', 'christoph', 'wind', 'henri', 'narrat', 'witch', 'assum', 'push', 'hunt', 'wise', 'chri', 'repres', 'month', 'nomin', 'sceneri', 'hide', 'avail', 'affair', 'thu', 'bond', 'smart', 'justic', 'interview', 'outstand', 'flashback', 'constantli', 'satisfi', 'presenc', 'central', 'bed', 'iron', 'sell', 'content', 'gag', 'everybodi', 'hotel', 'slowli', 'hire', 'system', 'adam', 'individu', 'hey', 'thrown', 'charl', 'mediocr', 'allen', 'jone', 'billi', 'ray', 'lesson', 'photographi', 'cameo', 'fellow', 'pari', 'strike', 'rise', 'absurd', 'independ', 'brief', 'neg', 'phone', 'impact', 'ill', 'model', 'born', 'fresh', 'spoil', 'angl', 'abus', 'likabl', 'hill', 'discuss', 'ahead', 'sight', 'sent', 'photograph', 'blame', 'shine', 'occur', 'logic', 'bruce', 'mainli', 'commerci', 'forev', 'skip', 'held', 'surround', 'teacher', 'segment', 'zero', 'blond', 'trap', 'satir', 'resembl', 'summer', 'six', 'queen', 'ball', 'fool', 'twice', 'tragedi', 'sub', 'reaction', 'pack', 'bomb', 'will', 'protagonist', 'hospit', 'sport', 'mile', 'mom', 'drink', 'vote', 'jerri', 'trust', 'encount', 'plane', 'al', 'current', 'program', 'station', 'choos', 'martin', 'celebr', 'join', 'tragic', 'lord', 'round', 'field', 'favourit', 'vision', 'jean', 'robot', 'tie', 'arthur', 'random', 'fortun', 'roger', 'dread', 'psycholog', 'intern', 'epic', 'prefer', 'improv', 'nonsens', 'highlight', 'pleasur', 'formula', 'legend', 'tape', '11', 'dollar', 'gorgeou', 'fox', 'object', 'thin', 'wide', 'porn', 'buddi', 'influenc', 'ugli', 'nasti', 'prepar', 'ii', 'warm', 'reflect', 'progress', 'supposedli', 'youth', 'worthi', 'length', 'latter', 'unusu', 'crash', 'shop', 'childhood', 'superior', 'seven', 'theatr', 'remot', 'pilot', 'funniest', 'paid', 'disgust', 'castl', 'convers', 'fell', 'trick', 'rob', 'gangster', 'establish', 'disast', 'heaven', 'suicid', 'ident', 'disappear', 'mine', 'heroin', 'forgotten', 'tend', 'singer', 'decis', 'mask', 'brian', 'partner', 'alan', 'desert', 'recogn', 'sky', 'stuck', 'p', 'ms', 'thoroughli', 'accur', 'replac', 'market', 'commentari', 'danni', 'eddi', 'andi', 'clue', 'uncl', 'seemingli', 'devil', 'jackson', 'refus', 'therefor', 'that', 'pair', 'fate', 'river', 'fault', 'ed', 'unit', 'accid', 'tune', 'afraid', 'clean', 'hidden', 'stephen', 'russian', 'test', 'captain', 'instanc', 'readi', 'irrit', 'quick', 'convey', 'european', 'daniel', 'frustrat', 'insan', 'wed', 'chines', '1950', 'food', 'rescu', 'angri', 'dirti', 'lock', 'joy', 'price', 'steven', 'cage', 'bland', 'rang', 'anymor', 'wooden', 'n', 'rush', 'news', 'jason', 'twenti', 'worri', '12', 'led', 'martial', 'board', 'symbol', 'cgi', 'transform', 'hunter', 'invent', 'johnni', 'piti', 'onto', 'sentiment', 'x', 'attitud', 'process', 'explan', 'awar', 'owner', 'aim', 'necessari', 'target', 'favor', 'energi', 'floor', 'opposit', 'religi', 'chick', 'insight', 'window', 'blind', 'movement', 'mountain', 'possess', 'comparison', 'deepli', 'research', 'comed', 'grand', 'whatsoev', 'rain', 'began', 'mid', 'bank', 'shadow', 'parodi', 'princ', 'friendship', 'weapon', 'pre', 'credibl', 'taylor', 'teach', 'flesh', 'dougla', 'protect', 'hint', 'terror', 'bloodi', 'marvel', 'anybodi', 'accord', 'watchabl', 'drunk', 'leader', 'load', 'superman', 'freddi', 'brown', 'seat', 'jeff', 'appropri', 'tim', 'hitler', 'knock', 'charg', 'unknown', 'keaton', 'villag', 'empti', 'media', 'unnecessari', 'enemi', 'england', 'buck', 'utter', 'wave', 'strength', 'perspect', 'dare', 'craft', 'kiss', 'correct', 'contrast', 'ford', 'nativ', 'knowledg', 'soap', 'magnific', 'anywher', 'speed', 'chill', 'distract', 'nazi', 'breath', '1980', 'fred', 'ice', 'mission', 'moon', 'crowd', 'joan', 'jr', 'frighten', 'kate', '000', 'soft', 'dick', 'dan', 'hundr', 'nick', 'dozen', 'simon', 'somebodi', 'radio', 'loss', 'thousand', 'shakespear', 'academi', 'andrew', 'sum', 'account', 'quot', 'vehicl', 'root', 'leg', '1970', 'convent', 'behavior', 'gold', 'regular', 'compet', 'pretenti', 'worker', 'demand', 'privat', 'interpret', 'japan', 'lynch', 'stretch', 'explos', 'candi', 'notabl', 'debut', 'constant', 'tarzan', 'sea', 'revolv', 'translat', 'prais', 'spi', 'failur', 'threaten', 'technolog', 'quiet', 'jesu', 'ass', 'franc', 'sat', 'aid', 'higher', 'met', 'kevin', 'punch', 'toy', 'interact', 'vh', 'abandon', 'mike', 'bet', 'confront', 'command', 'separ', 'servic', 'belong', 'techniqu', 'gotten', 'site', 'recal', 'stunt', 'foot', 'cabl', 'bug', 'freak', 'capabl', 'african', 'bright', 'jimmi', 'fu', 'stock', 'boat', 'succeed', 'clark', 'fat', 'presid', 'structur', 'spanish', 'gene', 'paper', 'kidnap', 'factor', 'whilst', 'belief', 'realism', 'attend', 'witti', 'complic', 'tree', 'realis', 'educ', 'bob', 'finest', 'assist', 'santa', 'broken', 'v', 'observ', 'smoke', 'depart', 'up', 'determin', 'fame', 'routin', 'lewi', 'hat', 'oper', 'rubbish', 'domin', 'hook', 'safe', 'advanc', 'foreign', 'lone', 'kinda', 'morgan', 'rank', 'numer', 'rose', 'washington', 'civil', 'shape', 'werewolf', 'shallow', 'vs', 'gari', 'morn', 'kong', 'winner', 'ordinari', 'accomplish', 'virtual', 'whenev', 'peac', 'grab', 'offens', 'h', 'luck', 'complain', 'unfunni', 'bigger', 'patient', 'welcom', 'activ', 'contriv', 'dimension', 'trek', 'con', 'pretend', 'dri', 'wake', 'flash', 'eric', 'code', 'cain', 'lesbian', 'dancer', 'statu', 'manipul', 'albert', 'corrupt', 'guard', 'awkward', 'context', 'signific', 'speech', 'sourc', 'gain', 'anthoni', 'corni', '13', 'psycho', 'sean', 'clip', 'reli', 'advic', 'w', 'curiou', 'religion', 'priest', 'theatric', 'addict', 'flow', 'secur', 'skin', 'specif', 'jennif', 'howard', 'asian', 'organ', 'golden', 'luke', 'promot', 'core', 'comfort', 'cheat', 'lucki', 'cash', 'associ', 'lower', 'dislik', 'frequent', 'degre', 'contribut', 'wing', 'frankli', 'regret', 'spell', 'balanc', 'devic', 'sake', 'forgiv', 'lake', 'print', 'thoma', 'mass', 'betti', 'unexpect', 'crack', 'gordon', 'amateur', 'invit', 'categori', 'grown', 'construct', 'unfold', 'depend', 'grew', 'condit', 'anna', 'walter', 'honor', 'intellectu', 'matur', 'sudden', 'veteran', 'mirror', 'sole', 'spectacular', 'card', 'demonstr', 'grip', 'robin', 'experienc', 'liner', 'meanwhil', 'gift', 'freedom', 'overli', 'theori', 'unabl', 'brilliantli', 'section', 'subtitl', 'sheriff', 'colour', 'crappi', 'circumst', 'oliv', 'drew', 'laughter', 'cook', 'sheer', 'matt', 'parker', 'altern', 'pile', 'path', 'wander', 'defin', 'hall', 'treatment', 'lawyer', 'accident', 'sinatra', 'relief', 'captiv', 'dragon', 'hank', 'halloween', 'gratuit', 'moor', 'barbara', 'k', 'cowboy', 'wound', 'wayn', 'unintent', 'jacki', 'broadway', 'kung', 'statement', 'spoof', 'canadian', 'surreal', 'winter', 'fare', 'gonna', 'cheer', 'treasur', 'compos', 'fish', 'unrealist', 'victor', 'sensit', 'emerg', 'woodi', 'neighbor', 'ran', 'driven', 'sympathet', 'overlook', 'authent', 'menac', 'topic', 'glass', 'expos', 'handsom', 'gross', 'michel', 'ancient', 'chief', 'contemporari', 'stranger', 'feet', 'cinderella', 'comedian', 'built', 'network', 'pleasant', 'nevertheless', 'russel', 'underr', 'miser', 'consider', 'endless', 'letter', 'gori', 'blockbust', 'earn', 'switch', 'solv', 'brook', 'joseph', 'convict', 'virgin', 'edward', 'bullet', 'victoria', 'chosen', 'cynic', 'scale', '0', 'scenario', 'alex', 'curs', 'gut', 'outrag', 'com', 'sword', 'substanc', 'driver', 'wrap', 'uk', 'monkey', 'proper', 'juli', 'screenwrit', 'indic', 'bird', 'par', 'court', 'remov', 'rental', 'naiv', 'loser', 'advertis', 'grave', 'consequ', 'inevit', 'roy', 'nanci', 'bridg', 'brave', 'slap', 'invis', 'germani', 'fatal', 'le', 'provok', 'footbal', 'anger', 'loui', 'ador', 'chan', 'anderson', 'alcohol', 'willi', 'stumbl', 'professor', 'ryan', 'assassin', 'patrick', '1930', 'australian', 'sharp', 'bat', 'amateurish', 'strongli', 'deni', 'refresh', 'liber', 'ape', 'trilog', 'heck', 'eight', 'saturday', 'cell', 'lousi', 'sin', 'san', 'vagu', 'resid', 'justifi', 'sympathi', 'mini', 'indi', 'reput', 'defeat', 'terrifi', 'creator', 'task', 'prevent', 'expert', 'endur', 'tediou', 'tabl', 'employ', 'rival', 'imit', 'offend', 'che', 'basebal', 'trial', 'complaint', 'beach', 'europ', 'weekend', 'fairi', 'pitch', 'dig', 'max', 'purchas', 'murphi', 'risk', 'format', 'hype', 'glimps', 'reminisc', 'harsh', 'nois', 'tini', 'powel', 'titan', 'bite', 'fals', '14', 'till', 'asleep', 'strip', 'north', 'prime', 'descript', 'revel', 'africa', 'destruct', 'texa', 'sitcom', 'uninterest', 'semi', 'spin', 'inner', 'surfac', 'arrest', 'excess', 'twin', 'hitchcock', 'massiv', 'argu', 'controversi', 'maintain', 'dinosaur', 'makeup', 'expens', 'melodrama', 'ideal', 'insist', 'ludicr', 'reject', 'kim', 'stare', 'atroci', 'supernatur', 'host', 'press', 'nail', 'ala', 'subplot', 'erot', 'forest', 'ga', 'columbo', 'identifi', 'notch', 'cant', 'dude', 'presum', 'character', 'method', 'guest', 'crude', 'forgett', 'closer', 'plagu', 'landscap', 'border', 'ear', 'foster', 'princess', 'beast', 'lion', 'damag', 'urban', 'birth', 'pacino', 'accus', 'storytel', 'jungl', 'bound', 'aunt', 'previous', 'nude', 'thirti', 'guid', 'jess', 'doll', 'chose', 'emma', 'propaganda', '25', 'whoever', 'mate', 'mainstream', 'warrior', 'pet', 'merit', 'poster', 'gritti', 'deadli', 'latest', 'size', 'exact', 'upset', 'friday', 'cooper', 'settl', 'wilson', 'rough', 'popul', 'citizen', '1990', 'corps', 'ton', 'blend', 'warner', 'sun', 'contest', 'contact', 'buff', 'widow', 'rat', 'overcom', 'metal', 'pitt', 'alic', 'environ', 'mgm', 'select', 'bu', 'lift', 'revolut', 'particip', 'guilti', 'link', 'ted', 'moron', 'johnson', 'matrix', '1960', 'exagger', 'prostitut', 'corner', 'afternoon', 'accompani', 'corpor', 'leagu', 'holm', 'friendli', 'doom', 'instal', 'hood', 'sincer', 'multipl', 'clair', 'hip', 'string', 'junk', 'blah', 'aka', 'examin', 'campi', 'defend', 'advis', 'sunday', 'lugosi', 'irish', 'grim', 'confid', 'icon', 'rachel', 'pro', 'shake', 'tight', 'varieti', 'shut', 'jaw', 'denni', 'medic', 'attach', 'goal', 'directli', 'sullivan', 'mexican', 'truck', 'terrorist', 'duke', 'prior', 'sentenc', 'sarah', 'bourn', 'legendari', 'courag', 'vietnam', 'breast', 'dean', 'proceed', 'donald', 'hong', 'behav', 'yell', 'un', 'nose', 'entri', 'split', 'unconvinc', 'swim', 'everywher', 'forth', 'gather', 'concentr', 'jerk', 'borrow', 'buri', 'crush', 'lifetim', 'confess', 'stolen', 'deliveri', 'lip', 'julia', 'pan', 'spite', 'california', 'turkey', 'hoffman', 'offici', 'flight', 'downright', 'reward', 'proud', 'freeman', 'quest', 'china', 'fade', 'jon', 'fabul', 'inept', 'sink', 'jail', 'betray', 'sir', 'encourag', 'worthwhil', 'lazi', 'notori', 'imageri', 'survivor', 'relev', 'teeth', 'branagh', 'bag', 'storm', 'lisa', 'cousin', 'shower', 'retard', 'bell', 'susan', 'tremend', 'quirki', 'finger', 'summari', 'shark', 'trade', 'bride', 'stab', 'facial', 'alright', 'hugh', 'mexico', 'toler', 'blown', 'pose', 'ha', 'hyster', 'bitter', 'von', 'cruel', 'address', 'scheme', 'ron', 'larri', 'bone', 'christ', 'ned', 'afterward', 'distinct', 'swear', 'traci', 'feed', 'beg', 'screw', 'snake', 'tour', 'thumb', 'pursu', 'raw', 'occas', 'mechan', 'obscur', 'chair', 'photo', 'stomach', 'resist', 'chain', 'gruesom', 'sidney', 'heavili', 'southern', 'argument', 'hardi', 'holiday', 'necessarili', 'render', 'cabin', 'understood', 'satan', 'philip', 'indulg', 'india', 'racist', 'lay', 'midnight', 'fourth', 'forgot', 'integr', 'pregnant', 'outfit', 'obnoxi', 'tongu', 'belov', 'stalk', 'ticket', 'restor', 'deeper', 'slapstick', 'carol', 'magazin', '17', 'inhabit', 'garden', 'shoe', 'incid', 'brad', 'devot', 'lincoln', 'sandler', 'elizabeth', 'benefit', 'divorc', 'disbelief', 'guarante', 'underground', 'lili', 'anticip', 'maria', 'capit', 'amazingli', 'explod', 'cring', 'creation', 'slave', 'princip', 'mildli', 'bbc', 'greater', 'funnier', 'extraordinari', 'lesli', 'halfway', 'introduct', 'overwhelm', 'tap', 'transfer', 'text', 'punish', 'advantag', 'enhanc', 'extent', 'wreck', 'plant', 'horrif', 'preview', 'deliber', 'error', 'lane', 'jessica', 'dynam', 'lo', 'east', 'ensu', 'appli', '2000', 'miscast', 'sophist', 'vacat', 'miller', 'basi', 'homosexu', 'vincent', 'bollywood', 'measur', 'steel', 'uncomfort', 'sleazi', 'via', 'extend', 'mansion', 'reed', 'elev', 'spoken', 'blair', 'daili', 'fix', 'conceiv', 'melt', 'cathol', 'mous', 'stanley', 'alter', 'dentist', 'beer', 'overact', 'breathtak', 'savag', 'assign', 'hippi', 'goofi', 'everyday', 'succe', 'carpent', 'properli', 'nowaday', 'sacrific', 'subsequ', 'burt', 'inspector', 'oppos', 'neck', 'massacr', 'circl', 'block', 'laura', 'access', 'grey', 'seagal', 'mob', 'fallen', 'portrait', 'pool', 'lesser', 'concert', 'christi', 'fay', 'sinist', 'isol', 'competit', 'chees', 'jewish', 'relax', 'jake', 'usa', 'react', 'suitabl', 'ironi', 'chop', 'lyric', 'immens', 'nine', 'appal', 'stink', 'nonetheless', '2006', 'creep', 'spiritu', 'showcas', 'retir', 'sold', 'adopt', 'nut', 'reduc', 'user', 'needless', 'luci', 'navi', 'franchis', 'rage', 'spring', 'shirt', 'per', 'jay', 'digit', 'asham', 'nurs', 'uninspir', 'bulli', 'zone', 'stanwyck', 'bath', 'sutherland', 'broadcast', 'amongst', 'upper', '1940', 'illustr', 'laid', '2001', 'oddli', 'fulfil', 'brando', 'stylish', 'aspir', 'disguis', 'throat', 'baker', 'pride', 'endear', 'wanna', 'thief', 'impli', 'em', 'pound', 'neighborhood', '18', 'wwii', 'nobl', 'shift', 'shoulder', 'cinematograph', 'distribut', 'prop', 'diseas', 'bett', '16', 'coher', 'albeit', 'tens', 'rochest', 'dawn', 'dinner', 'bo', 'knife', 'poignant', 'snow', 'matthau', 'forti', 'surf', 'shout', 'wash', 'rebel', 'silenc', 'contract', 'function', 'instinct', 'eeri', 'silver', 'duti', 'derek', 'height', 'elvira', 'reunion', 'internet', 'proof', 'cannib', 'henc', 'chuck', 'horrend', 'mindless', 'heat', 'widmark', 'cancel', 'greatli', 'spielberg', 'etern', 'pie', 'mill', 'torn', 'innov', 'premier', 'incoher', 'elvi', 'musician', 'absorb', 'alik', 'repetit', 'glori', 'neat', 'bang', 'crisi', 'blank', 'horrifi', 'racism', 'trite', 'homag', 'britain', 'redempt', 'lovabl', 'fbi', 'itali', 'diamond', 'wealthi', 'infam', 'announc', 'burton', 'precis', 'nelson', 'parallel', 'happili', 'ensembl', 'flop', 'helen', 'pat', 'dedic', 'hammer', 'streisand', 'wilder', 'chaplin', 'resolut', 'mar', 'triumph', 'factori', 'st', 'plastic', 'carter', 'cube', 'disagre', 'oil', 'conclud', 'broke', 'climb', 'fighter', 'own', 'row', 'chuckl', 'weight', 'bush', 'rocket', 'vega', 'march', 'spare', 'meaning', 'unforgett', 'dump', 'lust', 'boot', 'luca', 'sensibl', 'thug', 'wherea', 'kurt', 'enorm', 'mst3k', 'dane', 'engin', 'threat', 'dear', 'adequ', 'stress', 'bobbi', 'fifti', 'brand', 'caricatur', 'butt', 'difficulti', 'rap', 'arnold', 'karloff', 'journalist', 'flynn', 'fest', 'secretari', 'elabor', 'polish', 'ego', 'arrog', 'swing', 'barri', 'hamlet', 'ralph', 'homeless', 'induc', 'fanci', 'float', 'grate', 'conspiraci', 'puppet', 'tool', 'simpson', 'unbear', 'resort', 'arrang', 'spike', 'guilt', 'basement', 'choreograph', 'pig', 'cruis', 'phillip', 'tribut', 'exercis', 'boll', 'muppet', 'medium', 'document', 'layer', 'slip', '24', 'tower', 'item', 'editor', 'ward', 'korean', 'ham', 'stan', 'babe', 'toilet', 'puzzl', 'file', 'fianc', 'scarecrow', 'assur', 'philosoph', 'orient', 'minim', 'glover', 'doc', 'superfici', 'larger', 'spark', 'inexplic', 'persona', 'portion', 'transit', 'catherin', 'librari', 'territori', 'slaughter', 'denzel', 'ban', 'financi', 'shi', 'pg', 'jeremi', 'boredom', 'owe', 'dorothi', 'jet', 'sneak', 'wolf', 'curti', 'walken', 'cusack', 'ambigu', 'backdrop', 'metaphor', 'multi', 'profound', 'whale', 'hudson', 'eleph', 'notion', '2005', 'stiff', 'union', 'implaus', 'ultra', 'viru', 'birthday', 'rave', 'elsewher', 'hack', 'gadget', 'slight', 'hawk', 'poison', 'newspap', 'distanc', 'afford', 'eastwood', 'eva', 'urg', 'canada', 'pad', 'reader', 'superhero', 'squar', 'bibl', 'lloyd', 'disc', '1st', 'deriv', 'charisma', 'cure', 'health', 'huh', 'montag', 'restaur', 'spread', 'drown', 'sadist', 'button', 'essenc', 'skit', 'heston', 'dealt', 'companion', 'invest', 'peak', 'fetch', 'gradual', 'estat', 'godfath', 'muslim', 'lab', 'scoobi', 'maniac', 'countless', 'miik', 'gothic', 'servant', 'cup', 'subtleti', 'ritter', 'kane', 'tea', 'alli', 'elect', 'heroic', 'salli', 'electr', 'iii', 'charismat', 'briefli', 'wannab', 'nuanc', 'tender', 'neil', 'grandmoth', 'cole', 'reel', 'bud', 'toss', 'admittedli', 'ingredi', 'resourc', 'label', 'reev', 'dawson', 'pit', 'stronger', 'stood', 'mafia', 'punk', 'mild', 'shall', 'poverti', 'kubrick', 'pauli', 'gate', 'carrey', 'terri', 'assault', 'burst', 'updat', 'smooth', 'ian', 'tag', 'useless', 'smash', 'cardboard', 'fond', 'astair', 'cox', 'easier', 'outcom', 'bakshi', 'vulner', '2002', 'samurai', 'divers', 'qualifi', 'resolv', 'fist', 'increasingli', 'exchang', 'coincid', 'melodramat', 'vari', 'rex', 'sketch', 'brillianc', 'blast', 'templ', 'be', 'suspend', 'insert', 'reynold', 'conveni', 'scratch', 'luckili', 'tame', 'farm', 'jami', 'pin', 'coach', 'soprano', 'gotta', 'nuclear', 'meat', 'ambiti', 'walker', 'matthew', 'seventi', 'strictli', 'fisher', 'hamilton', 'brosnan', 'spooki', 'recreat', 'eccentr', 'butcher', 'ninja', 'convolut', 'worthless', 'revers', 'empir', 'struck', 'cave', 'monk', 'kudo', 'timeless', 'clock', 'grasp', 'closet', 'joey', 'discoveri', 'instantli', 'eighti', 'selfish', 'importantli', 'evok', 'inconsist', 'communist', 'sidekick', 'cliff', 'wipe', 'fifteen', 'sloppi', 'norman', 'declar', 'mitchel', 'bleak', 'pal', 'seller', 'miracl', 'partli', 'clown', 'gray', 'enthusiast', 'websit', 'australia', 'farc', 'lifestyl', '45', 'flawless', 'cheek', 'psychiatrist', 'chew', 'seed', 'aforement', 'piano', 'superbl', 'stoog', 'debat', 'ho', 'destin', 'directori', 'soviet', 'dire', 'emili', 'kitchen', 'abc', 'splatter', 'incompet', 'slice', 'bash', 'wrestl', 'regardless', 'dash', 'drivel', 'anni', 'wick', 'pressur', 'akshay', 'helicopt', 'distant', 'recov', 'flower', 'dave', 'pleasantli', 'jar', 'judi', 'mann', 'prize', 'boil', 'glow', 'suppli', 'seduc', 'ken', 'increas', 'cameron', 'curios', 'duo', 'beaten', 'cagney', 'chapter', 'cia', 'doo', 'artifici', 'blob', 'lou', 'laurel', 'web', 'perri', 'psychot', 'goldberg', 'glenn', 'favour', 'drunken', 'eleg', 'turner', 'combat', 'splendid', 'hop', 'craven', 'craig', 'ranger', 'francisco', 'ellen', 'panic', 'hatr', 'plausibl', 'ruth', 'greek', 'flip', 'fx', '20th', 'slightest', 'falk', 'philosophi', 'gandhi', 'graduat', 'alexand', 'rid', 'shortli', 'min', 'wizard', 'gentl', 'modesti', 'we', 'ocean', 'manhattan', 'legal', 'felix', 'harm', 'fund', 'lend', 'holi', 'preciou', 'knight', 'unpleas', 'jealou', 'futurist', 'dracula', 'tall', 'tank', 'childish', 'mock', 'digniti', 'bless', 'reviv', 'explicit', 'ami', 'giallo', 'overdon', 'forbidden', 'scientif', 'thread', 'nod', 'awaken', 'broad', 'thick', '99', 'yesterday', 'mel', 'eve', 'torment', 'margaret', 'nerv', 'pirat', 'elderli', 'verhoeven', 'fever', '2004', 'repeatedli', 'unwatch', 'awe', 'absenc', 'ambit', 'rivet', 'acclaim', 'automat', 'custom', 'ah', 'roman', 'launch', 'eas', 'uniform', 'bin', 'lean', 'kay', 'politician', 'publish', 'royal', 'romero', 'griffith', 'stiller', 'timothi', 'pierc', 'purpl', 'gabriel', 'warren', 'homicid', 'tomato', 'crook', 'pulp', 'phrase', 'termin', 'antic', 'foul', 'wallac', 'sunshin', 'stinker', 'darker', 'bathroom', 'transport', 'ought', 'donna', 'viciou', 'packag', 'coloni', 'saint', 'pray', 'choreographi', 'hollow', '2003', 'marin', 'evolv', 'kenneth', 'rambo', 'horrid', 'album', 'juvenil', 'revolutionari', 'brazil', 'awak', 'contrari', 'eyr', 'karen', 'sixti', 'li', 'q', 'prom', 'beatti', 'boast', 'twelv', 'option', 'mildr', 'ireland', 'kapoor', 'nerd', 'ramon', 'overr', 'defi', 'mummi', 'stole', 'conserv', 'candid', 'blade', 'dose', 'detract', 'flame', 'confirm', 'jazz', 'collabor', 'natali', 'protest', 'altman', 'astonish', 'kirk', 'fulci', 'funer', 'global', 'trio', 'nicholson', 'delici', 'racial', 'audio', 'tommi', 'yellow', 'bull', 'blake', 'bottl', 'mystic', 'leap', 'shade', 'spit', 'enterpris', 'destini', 'whip', 'adolesc', 'altogeth', 'meaningless', 'vivid', 'fonda', 'visibl', 'pseudo', 'staff', 'reunit', 'threw', 'todd', 'harder', 'enchant', 'bedroom', 'neo', 'merci', 'inherit', 'popcorn', 'swedish', 'respond', 'roommat', 'ruthless', 'voight', 'synopsi', 'lemmon', 'crocodil', 'madonna', 'lawrenc', 'atlanti', 'leonard', 'tip', 'moodi', 'suspici', 'exhibit', 'await', 'wire', 'reserv', 'fanat', 'edi', 'bust', 'uneven', 'befriend', 'decor', 'kennedi', 'jew', '2007', 'dimens', 'ventur', 'centr', 'clint', 'carl', 'incident', 'bold', 'garner', 'abysm', 'bargain', 'rural', 'voyag', 'chao', 'holli', 'audit', 'palma', 'unsettl', 'bradi', 'clumsi', 'lit', 'poetic', 'trail', 'imperson', 'elimin', 'daddi', 'tiger', 'neglect', 'nearbi', 'wealth', 'cd', 'echo', 'humili', '2nd', 'versu', 'immigr', 'hart', 'cuba', 'acknowledg', 'troop', 'mall', 'cari', 'characterist', 'ant', 'timon', 'paus', 'domest', 'mickey', 'saga', 'marshal', 'jeffrey', 'celluloid', 'solo', 'pun', 'repuls', 'mistaken', 'homer', 'prejudic', 'infect', 'collaps', 'undoubtedli', 'coat', 'equip', 'promin', 'sore', 'chest', 'inan', 'coffe', '1996', 'assembl', 'pant', 'cake', 'gear', 'harvey', 'ginger', 'interrupt', 'milk', 'inappropri', 'apolog', 'leon', 'olivi', 'tribe', 'hbo', 'primari', 'retain', 'solut', 'jenni', 'trace', 'florida', 'aveng', 'pot', 'consum', 'humbl', 'devast', 'maggi', 'embrac', 'furthermor', 'institut', 'colleagu', 'colonel', 'highest', 'exot', 'airplan', 'vulgar', 'polanski', 'instant', 'brooklyn', 'pen', 'ya', 'disabl', 'poke', 'strain', 'godzilla', 'linda', 'smaller', 'gender', 'sale', 'rick', 'dutch', 'principl', 'descend', 'dian', '3rd', 'wive', 'illog', 'outer', '1999', 'cope', 'seduct', 'bowl', 'cue', 'predecessor', 'inferior', 'rabbit', 'devoid', 'secondli', 'beneath', 'lol', 'mixtur', 'gloriou', 'hal', 'primarili', 'dive', 'dud', 'glamor', 'bubbl', 'scope', 'blatant', 'yard', 'vast', 'gundam', 'streep', 'arab', 'aggress', 'trademark', 'disjoint', 'april', 'pearl', 'shirley', 'shelf', 'senseless', 'domino', 'invas', 'museum', 'casual', 'countrysid', 'alfr', 'alert', 'breed', 'hideou', 'talki', 'simplist', 'myer', 'garbo', 'et', 'z', 'grinch', 'applaud', 'mayor', 'sh', 'illeg', 'experiment', 'robinson', 'disgrac', 'stack', 'hopeless', 'slide', 'stir', 'acid', 'unhappi', 'loyal', 'robberi', 'boom', 'khan', 'obtain', 'hardcor', 'rendit', 'uwe', 'mail', 'defens', 'maci', 'oz', 'vanish', 'stellar', 'emphasi', 'craze', 'topless', 'fri', 'counter', 'tenant', 'tempt', 'rifl', 'dismiss', 'grandfath', 'wont', 'span', 'declin', 'psychic', 'recruit', 'berlin', 'blew', 'diana', 'dicken', 'scroog', 'spider', 'incomprehens', 'soccer', 'amanda', 'hartley', 'sibl', 'faster', 'ration', 'revolt', 'bitch', 'ethnic', 'resurrect', 'niro', 'justin', 'shaw', 'wet', 'riot', 'shed', 'intim', 'parad', 'lumet', 'goer', 'trashi', 'porno', 'sympath', 'woo', 'honesti', 'ensur', 'ballet', 'immort', 'commend', 'patriot', 'eager', 'gap', 'partial', 'lena', 'weakest', 'mario', 'steam', 'enlighten', 'dealer', 'rider', 'hopper', 'choru', 'biographi', 'wendi', 'slick', 'nephew', 'region', 'worm', 'jonathan', 'farmer', 'feminist', 'hesit', 'wheel', '00', 'unreal', 'andr', 'skull', 'sandra', 'confin', 'nostalg', 'morri', 'blunt', 'prequel', 'repress', 'snap', 'psychopath', 'vice', 'properti', 'victori', 'safeti', 'wore', 'franco', 'leo', 'sappi', 'composit', 'owen', 'mutant', 'charlott', 'kingdom', 'hung', 'util', 'similarli', 'macarthur', 'strand', 'heartbreak', 'rope', 'whoopi', 'latin', 'tail', 'cg', '1972', 'recycl', 'acquir', 'deed', 'emperor', 'bumbl', 'campbel', 'rambl', 'valuabl', 'nervou', 'exit', 'montana', 'miseri', 'compens', 'kyle', 'farrel', 'hyde', 'dust', 'bergman', 'dalton', 'pattern', 'tad', 'drain', 'del', 'despair', 'rocki', 'speci', 'drum', 'snl', 'compass', 'thru', 'bow', 'bonu', 'repli', 'radic', 'romp', 'gimmick', 'rotten', '35', 'mistress', 'downhil', 'tonight', 'pour', 'olli', 'martian', 'airport', 'wacki', 'chess', 'oppress', 'orson', 'roth', 'rapist', 'percept', 'gal', 'bleed', 'da', 'contempl', 'carradin', 'slug', 'banal', 'stilt', 'melodi', 'heal', 'attorney', 'edgar', 'programm', 'mislead', 'pursuit', 'unpredict', 'tackl', 'tooth', 'paltrow', 'taught', 'belt', 'pervert', 'dazzl', 'slash', 'preach', 'shelley', '1983', 'arguabl', 'arc', 'pervers', 'champion', 'virginia', 'vengeanc', 'chicken', 'gambl', 'passeng', 'uplift', 'maid', 'vocal', 'duval', 'cleverli', 'sensat', 'orang', 'tiresom', 'conneri', 'mesmer', 'graham', 'rubi', 'closest', 'bela', 'franki', 'raymond', 'plight', 'poem', 'marti', 'employe', 'dixon', 'profan', 'monologu', 'habit', 'quarter', 'iran', 'swallow', 'whine', 'paranoia', 'convincingli', 'climact', 'calm', 'inject', 'crystal', 'mute', 'outing', 'numb', '1968', 'volum', 'engross', 'extens', 'bay', 'clone', 'gerard', 'giggl', 'tube', 'secretli', 'lundgren', 'abraham', 'sirk', 'scottish', 'suffic', 'pokemon', 'yawn', 'amitabh', 'trend', 'backward', 'profess', 'taxi', 'plod', 'expand', 'chicago', 'abort', 'poetri', 'meander', 'richardson', 'septemb', 'im', 'underst', 'earl', 'lowest', 'frankenstein', 'nichola', 'ethan', 'junior', 'grotesqu', 'surpass', 'bend', 'dispos', 'linger', 'fed', 'austen', 'franci', 'spock', 'mundan', 'waitress', 'spoke', 'myth', 'tourist', 'cannon', 'simplic', 'literatur', 'rant', 'hum', 'stallon', 'eugen', 'rubber', 'dysfunct', 'econom', 'descent', 'catchi', 'greedi', 'compliment', 'der', 'sue', 'instrument', 'lure', 'nostalgia', 'muddl', 'household', 'flee', 'stale', 'recognit', 'insur', 'map', 'eaten', 'coast', 'phoni', 'firstli', 'phantom', 'crucial', 'sissi', 'cent', 'hello', 'damon', 'mankind', 'deaf', 'duck', 'bacal', 'randi', 'lang', 'occupi', 'furi', 'omen', 'alongsid', 'dement', 'equival', 'recognis', 'irrelev', 'mortal', 'dictat', 'louis', 'carel', 'molli', 'june', 'blackmail', 'reign', 'cyborg', 'wisdom', 'likewis', 'ashley', '1973', 'bike', 'twilight', 'labor', 'distinguish', 'heel', 'bump', 'loyalti', 'rude', 'rooney', 'damm', 'onlin', 'lengthi', 'drake', 'newli', 'freez', 'dreari', 'buffalo', 'daisi', 'biko', 'grayson', 'antwon', 'startl', 'chronicl', 'attribut', 'unorigin', 'basketbal', 'pink', 'boxer', 'prey', 'vein', 'exposur', 'ridden', 'analysi', 'inher', 'nineti', 'provoc', 'worn', 'interior', 'incorpor', 'emphas', 'butler', 'tunnel', 'keith', 'proce', 'baddi', 'approv', 'barrymor', 'sailor', 'substitut', 'undeni', 'bunni', 'condemn', 'stalker', 'belushi', 'elm', 'mighti', 'mormon', 'predat', 'simmon', 'meg', 'robbin', 'degrad', 'indiffer', 'walsh', 'unrel', 'barrel', 'millionair', 'nicol', 'carla', 'drift', 'improvis', 'er', 'meyer', 'hypnot', 'othello', 'underli', 'fleet', 'julian', 'errol', 'nyc', 'vital', 'agenda', 'edgi', 'alarm', 'lampoon', 'dolph', 'firm', 'exquisit', 'unawar', 'enthusiasm', 'roof', 'novak', 'mtv', 'disord', 'marion', 'reid', 'hay', 'rukh', 'shove', 'greed', 'watson', 'alison', 'palac', 'warmth', 'priceless', '3d', 'peril', 'eastern', 'distort', 'thompson', 'gestur', 'testament', 'simultan', 'preserv', 'randomli', 'orlean', 'angela', 'drip', 'what', 'valentin', 'zizek', 'nun', 'showdown', 'pamela', 'beatl', 'iraq', 'peck', 'petti', 'ponder', 'coup', 'unleash', 'championship', 'profit', '13th', 'crown', '1933', 'minimum', 'cassidi', 'israel', 'glanc', 'session', 'campaign', 'sergeant', 'spain', 'quinn', '1984', 'perpetu', 'crawl', 'brenda', 'cream', 'travesti', 'calib', 'gentleman', 'cooki', 'unimagin', 'stroke', 'rout', 'empathi', 'han', 'contradict', 'bro', 'realm', 'valley', 'shootout', 'exposit', 'reson', 'kurosawa', 'regist', 'wig', 'restrain', 'represent', 'crow', 'scotland', 'buster', 'sabrina', 'stake', 'mon', 'climat', 'fido', 'jan', 'din', 'miyazaki', 'traumat', 'greg', 'distress', 'warrant', 'meryl', 'censor', 'monoton', 'abomin', 'ross', 'perceiv', 'crawford', 'darren', 'painter', 'unsatisfi', 'pretens', 'josh', 'shoddi', 'cloud', 'shaki', 'femm', 'passabl', 'sammi', 'demis', 'spacey', 'geek', 'businessman', 'pole', 'wax', 'stargat', '1997', 'tacki', 'baldwin', 'mclaglen', 'compromis', 'delic', 'soderbergh', 'absent', 'derang', 'ustinov', 'unseen', '1987', 'fuller', 'sucker', 'dana', 'norm', 'deniro', 'polici', '1993', 'clash', 'exclus', 'antonioni', 'wholli', 'verbal', 'accuraci', 'judgment', 'jewel', 'expedit', 'austin', 'furiou', 'click', 'dee', 'nathan', 'deceas', 'reluct', 'fenc', 'sid', 'primit', 'correctli', 'tech', 'unravel', 'anchor', 'fog', 'tarantino', 'uncov', 'valid', 'kumar', 'seal', 'debt', 'patienc', 'fought', '1971', 'sheet', 'sunni', 'seldom', 'unfair', 'temper', 'fart', 'darn', 'crippl', 'joel', 'dreck', 'conduct', 'behold', 'ritual', 'sustain', 'enforc', '1995', 'shanghai', 'tax', '3000', 'logan', 'fabric', 'alec', 'pocket', 'wretch', 'bake', 'roller', '2008', 'trait', 'hallucin', 'vanc', 'sand', 'slam', 'wang', 'mode', 'clerk', 'malon', 'murray', 'nicola', 'grief', 'bias', 'bridget', 'pete', 'isabel', 'helpless', 'guitar', 'critiqu', 'sweep', 'schedul', 'runner', 'clau', 'preposter', 'robber', 'fundament', 'penni', 'tactic', 'shell', 'outlin', 'stark', 'technicolor', 'phil', 'exhaust', 'conscious', 'soup', 'despis', 'scriptwrit', 'canyon', 'rita', 'divid', 'squad', 'preston', 'stuart', 'legaci', 'alley', 'marc', 'jacket', 'liberti', 'kansa', 'cigarett', 'boyl', 'propos', 'invad', 'vomit', 'delv', 'consciou', 'lacklust', 'sugar', 'downey', 'alicia', 'drove', 'jodi', 'restrict', 'russia', 'culmin', 'palanc', 'connor', 'flair', 'rear', 'gregori', 'passag', 'implic', 'sniper', 'rehash', 'newman', 'bloom', 'inabl', 'sentinel', 'unexpectedli', 'agenc', 'aesthet', 'cap', 'pale', 'delet', 'foxx', 'tendenc', 'yeti', 'kolchak', '1936', 'bacon', '22', 'asylum', 'awhil', 'rod', 'karl', 'lush', 'feat', 'horn', 'sharon', 'mccoy', 'wrench', 'ladder', 'vet', 'improb', 'rehears', 'tripe', 'chainsaw', 'behaviour', 'rampag', 'arrow', 'aristocrat', 'paradis', 'financ', 'loneli', 'fright', 'scoop', 'wagner', 'wildli', '19th', 'hackney', 'elit', '1978', 'tasteless', '1920', 'stream', 'suffici', 'hungri', 'sung', 'newcom', 'underneath', 'visitor', '1988', 'rumor', 'conscienc', 'weav', 'rhythm', 'paramount', 'filler', 'coaster', 'amazon', 'basing', 'suspicion', 'shortcom', 'minu', 'lurk', 'spice', 'tomorrow', 'hulk', 'el', 'prank', 'globe', 'thunderbird', 'en', 'ingeni', 'rub', 'impos', 'straightforward', 'quietli', 'penn', 'secondari', 'couch', 'springer', 'hopkin', 'choppi', 'naughti', 'cancer', 'standout', 'dirt', 'literari', 'counterpart', '1939', 'worship', 'immers', 'paxton', 'teas', 'bread', '1989', 'curli', 'grudg', 'brit', 'recogniz', 'abrupt', 'chavez', 'beverli', 'entranc', 'atroc', 'leigh', 'lectur', 'minist', '75', 'inmat', 'heist', 'chamberlain', 'iv', 'smell', 'tierney', 'ram', 'posey', 'wwe', 'morbid', 'nemesi', 'ratso', 'net', 'transcend', 'cattl', 'moreov', 'injuri', 'quaid', 'convert', 'variat', 'bernard', 'clan', 'sublim', 'enthral', 'attenborough', 'yearn', 'policeman', 'ace', 'laurenc', '1986', 'geni', 'entitl', 'skeptic', 'watcher', 'sassi', 'nolan', 'missil', 'heartfelt', 'misguid', 'lindsay', 'esther', 'duel', 'out', 'grin', 'moder', 'enabl', 'reliabl', 'poe', 'tyler', 'unexplain', 'kitti', 'mytholog', 'spiral', 'graini', 'vader', 'cruelti', 'dont', 'diari', '1979', 'steadi', 'buzz', 'carlito', 'egg', 'hk', 'artsi', 'bye', 'bean', 'hopelessli', 'characteris', 'obstacl', 'puppi', 'kidman', 'uncut', 'setup', 'facil', 'brood', 'rosemari', 'youngest', 'athlet', 'christin', 'narrow', 'baffl', 'weather', 'patricia', 'decept', '1969', 'oblig', 'hain', 'bewar', 'niec', 'gina', 'fuel', 'underworld', 'spontan', 'exterior', 'despic', 'acquaint', 'hammi', 'bronson', 'kline', 'gillian', 'effici', 'sweat', 'martha', 'clueless', 'heap', 'bounc', 'disastr', 'preming', 'brendan', 'astound', 'goof', 'dilemma', 'preachi', 'angst', 'biker', 'viewpoint', 'analyz', 'shatter', 'sleepwalk', 'mermaid', 'insipid', 'virtu', 'sooner', 'loath', 'hepburn', 'candl', 'enlist', 'tick', 'injur', 'taboo', 'uh', 'housewif', 'dandi', 'suprem', 'trigger', 'rome', 'headach', 'mayhem', 'outlaw', 'circu', '19', 'lester', 'loi', 'renaiss', 'scar', '73', 'harmless', 'fontain', 'overlong', 'camcord', 'dismal', 'surgeri', 'glorifi', 'salt', 'phenomenon', 'intric', 'foolish', 'sox', 'guin', 'immatur', 'stimul', 'hostag', 'fluff', 'spade', 'oldest', 'contempt', 'amor', 'redund', 'stair', 'hooker', 'hokey', 'zoom', 'tripl', 'slimi', 'scorses', 'idol', 'gere', 'cassavet', 'steer', 'ebert', 'bent', 'ariel', 'filth', 'whore', 'claustrophob', 'macho', 'corbett', 'boston', 'dish', 'beard', 'flag', 'gasp', 'harold', 'mutual', 'keen', 'dwarf', 'gabl', 'zane', 'remad', 'obligatori', '1976', 'flashi', 'mount', 'antagonist', 'widescreen', 'cohen', 'radiat', 'down', 'nolt', 'fascist', 'perman', 'preced', 'cow', 'messi', 'shield', 'astronaut', 'frantic', 'schlock', '1981', 'rhyme', 'flirt', 'faint', 'proport', 'shred', 'muscl', 'spinal', 'spree', 'trivia', 'margin', 'joker', 'transplant', 'alvin', 'corman', 'cush', 'conquer', 'assert', 'strongest', 'naschi', 'departur', 'neurot', 'hara', 'someday', 'boob', 'bachelor', 'repris', 'claud', 'interestingli', 'wield', 'discern', 'scandal', 'strive', 'resum', 'inflict', 'carey', 'mobil', 'vaniti', 'aborigin', 'archiv', 'sensual', 'info', '28', 'instruct', 'www', 'fishburn', 'barn', 'danish', 'flock', 'off', 'divin', '95', 'persuad', '1945', 'brush', 'deer', 'mol', 'ritchi', 'triangl', 'bitten', 'raj', 'hug', 'hapless', 'ish', 'earnest', 'cb', 'casino', 'senior', 'cher', 'dame', 'neill', 'frontier', 'parson', 'axe', 'cycl', 'dim', 'bate', 'miracul', 'undermin', 'anton', 'mobster', 'dylan', 'traffic', 'kathryn', 'colin', 'banter', 'biblic', 'loretta', 'heartwarm', 'fragil', 'recit', 'submit', 'artwork', 'prophet', 'rot', 'timberlak', 'hilar', 'cliffhang', 'vibrant', 'proclaim', 'carlo', 'pacif', 'pixar', 'harrison', 'jade', 'clad', 'luka', 'helm', 'melissa', 'pickford', 'wendigo', 'europa', 'seedi', 'pc', 'illus', 'marlon', 'static', 'aris', 'vanessa', 'http', 'electron', 'foil', 'misfortun', 'rooki', 'flavor', 'articl', 'bondag', 'milo', 'shepherd', 'jordan', 'antholog', 'mason', 'choke', 'blatantli', 'jo', 'orphan', 'redneck', 'lui', 'toronto', 'eli', 'cerebr', 'token', 'legitim', 'nope', 'northern', 'feast', 'wardrob', 'razor', 'vile', 'uma', 'venom', 'akin', 'winchest', 'bikini', 'isra', 'estrang', 'lucil', 'breakfast', 'trier', 'sicken', 'mathieu', 'alexandr', 'holocaust', 'smack', 'leather', 'highway', 'disregard', 'ceremoni', 'peer', 'shorter', 'feminin', 'howl', 'affleck', 'comprehend', 'styliz', 'audrey', 'clinic', 'linear', 'retriev', 'oppon', 'outdat', 'ideolog', 'knightley', 'deem', 'boyer', 'huston', 'tack', 'gilbert', 'cartoonish', 'glare', 'turd', 'frog', 'fifth', 'dudley', 'abund', 'charlton', 'nightclub', 'magician', 'psych', 'wrestler', 'swept', 'gunga', 'boo', 'phenomen', 'bastard', 'senat', 'lighter', 'collector', 'evolut', '1994', 'newer', 'chip', 'summar', 'plate', 'spine', 'breakdown', 'btw', '1991', 'salman', 'einstein', 'snatch', '4th', 'toe', 'potter', 'monument', 'uniformli', 'compris', 'sleaz', 'lifeless', 'energet', 'spawn', 'durat', 'greet', 'cemeteri', 'bogu', 'cuban', 'client', 'braveheart', 'corn', 'tara', 'conrad', 'goldsworthi', 'lavish', 'deliver', 'whack', 'moe', 'mitch', 'spectacl', 'embark', 'alleg', 'constitut', 'fluid', 'gilliam', 'nina', 'pronounc', '1974', 'replay', 'neatli', 'judd', 'ol', 'healthi', 'jedi', 'undead', 'trauma', 'ie', 'armstrong', 'outright', 'jam', 'belli', 'undertak', 'appl', 'randolph', 'jule', 'firmli', 'clara', 'luxuri', 'cecil', 'bori', 'evelyn', 'signal', 'wtf', 'lex', 'sorrow', 'occup', 'liu', 'inaccuraci', 'capot', '1977', 'eleven', 'bulk', 'creek', 'kent', 'kazan', 'jare', 'historian', 'mcqueen', 'abound', 'forgiven', 'paula', 'spray', 'unattract', '1985', 'ash', 'inaccur', 'bsg', 'walt', 'vignett', 'aussi', 'antonio', 'inclus', 'knee', 'pepper', 'cape', 'comb', 'comprehens', 'groan', 'miami', 'congratul', 'subtli', 'mum', 'id', 'lauren', 'roar', 'palm', 'meal', 'sacrif', 'unsuspect', 'tokyo', 'pioneer', 'galaxi', 'basket', 'blur', 'porter', 'fruit', 'kiddi', 'truman', 'propheci', 'miniseri', 'relentless', 'decapit', 'bait', 'carmen', 'curtain', 'vain', 'conan', 'genet', 'goldblum', 'poker', 'rosario', 'lanc', 'sidewalk', 'substanti', 'ghetto', 'verg', 'victorian', '21st', 'playboy', 'scariest', 'mice', 'orchestr', 'omin', 'sophi', 'handicap', 'epitom', 'evan', 'masterson', 'rapidli', 'sparkl', 'monti', 'weaker', 'asset', 'vastli', 'optimist', 'scarfac', 'profil', 'spill', 'dubiou', 'assort', 'drone', 'incorrect', 'bach', 'hackman', 'growth', 'macabr', 'detach', 'modest', 'cypher'])\n"
     ]
    }
   ],
   "source": [
    "print(word_dict.keys())"
   ]
  },
  {
   "cell_type": "markdown",
   "metadata": {},
   "source": [
    "**Question:** What are the five most frequently appearing (tokenized) words in the training set? Does it makes sense that these words appear frequently in the training set?"
   ]
  },
  {
   "cell_type": "markdown",
   "metadata": {},
   "source": [
    "**Answer:**"
   ]
  },
  {
   "cell_type": "code",
   "execution_count": 26,
   "metadata": {},
   "outputs": [
    {
     "name": "stdout",
     "output_type": "stream",
     "text": [
      "movi\n",
      "film\n",
      "one\n",
      "like\n",
      "time\n"
     ]
    }
   ],
   "source": [
    "# TODO: Use this space to determine the five most frequently appearing words in the training set.\n",
    "count = 1\n",
    "for word in list(word_dict.keys()):\n",
    "    if count <=5:\n",
    "        print(word)\n",
    "        count += 1\n",
    "    else:\n",
    "        break"
   ]
  },
  {
   "cell_type": "markdown",
   "metadata": {},
   "source": [
    "### Save `word_dict`\n",
    "\n",
    "Later on when we construct an endpoint which processes a submitted review we will need to make use of the `word_dict` which we have created. As such, we will save it to a file now for future use."
   ]
  },
  {
   "cell_type": "code",
   "execution_count": 27,
   "metadata": {},
   "outputs": [],
   "source": [
    "data_dir = '../data/pytorch' # The folder we will use for storing data\n",
    "if not os.path.exists(data_dir): # Make sure that the folder exists\n",
    "    os.makedirs(data_dir)"
   ]
  },
  {
   "cell_type": "code",
   "execution_count": 28,
   "metadata": {},
   "outputs": [],
   "source": [
    "with open(os.path.join(data_dir, 'word_dict.pkl'), \"wb\") as f:\n",
    "    pickle.dump(word_dict, f)"
   ]
  },
  {
   "cell_type": "markdown",
   "metadata": {},
   "source": [
    "### Transform the reviews\n",
    "\n",
    "Now that we have our word dictionary which allows us to transform the words appearing in the reviews into integers, it is time to make use of it and convert our reviews to their integer sequence representation, making sure to pad or truncate to a fixed length, which in our case is `500`."
   ]
  },
  {
   "cell_type": "code",
   "execution_count": 29,
   "metadata": {},
   "outputs": [],
   "source": [
    "def convert_and_pad(word_dict, sentence, pad=500):\n",
    "    NOWORD = 0 # We will use 0 to represent the 'no word' category\n",
    "    INFREQ = 1 # and we use 1 to represent the infrequent words, i.e., words not appearing in word_dict\n",
    "    \n",
    "    working_sentence = [NOWORD] * pad\n",
    "    \n",
    "    for word_index, word in enumerate(sentence[:pad]):\n",
    "        if word in word_dict:\n",
    "            working_sentence[word_index] = word_dict[word]\n",
    "        else:\n",
    "            working_sentence[word_index] = INFREQ\n",
    "            \n",
    "    return working_sentence, min(len(sentence), pad)\n",
    "\n",
    "def convert_and_pad_data(word_dict, data, pad=500):\n",
    "    result = []\n",
    "    lengths = []\n",
    "    \n",
    "    for sentence in data:\n",
    "        converted, leng = convert_and_pad(word_dict, sentence, pad)\n",
    "        result.append(converted)\n",
    "        lengths.append(leng)\n",
    "        \n",
    "    return np.array(result), np.array(lengths)"
   ]
  },
  {
   "cell_type": "code",
   "execution_count": 30,
   "metadata": {},
   "outputs": [],
   "source": [
    "train_X, train_X_len = convert_and_pad_data(word_dict, train_X)\n",
    "test_X, test_X_len = convert_and_pad_data(word_dict, test_X)"
   ]
  },
  {
   "cell_type": "markdown",
   "metadata": {},
   "source": [
    "As a quick check to make sure that things are working as intended, check to see what one of the reviews in the training set looks like after having been processeed. Does this look reasonable? What is the length of a review in the training set?"
   ]
  },
  {
   "cell_type": "code",
   "execution_count": 31,
   "metadata": {},
   "outputs": [
    {
     "name": "stdout",
     "output_type": "stream",
     "text": [
      "[ 222  360  346 2623 1075  310  216  770 4292    1  495  244 1520  113\n",
      "    3  140  197 1520  444  444  279   15  552  998   47 2173   44  605\n",
      "  254   17    0    0    0    0    0    0    0    0    0    0    0    0\n",
      "    0    0    0    0    0    0    0    0    0    0    0    0    0    0\n",
      "    0    0    0    0    0    0    0    0    0    0    0    0    0    0\n",
      "    0    0    0    0    0    0    0    0    0    0    0    0    0    0\n",
      "    0    0    0    0    0    0    0    0    0    0    0    0    0    0\n",
      "    0    0    0    0    0    0    0    0    0    0    0    0    0    0\n",
      "    0    0    0    0    0    0    0    0    0    0    0    0    0    0\n",
      "    0    0    0    0    0    0    0    0    0    0    0    0    0    0\n",
      "    0    0    0    0    0    0    0    0    0    0    0    0    0    0\n",
      "    0    0    0    0    0    0    0    0    0    0    0    0    0    0\n",
      "    0    0    0    0    0    0    0    0    0    0    0    0    0    0\n",
      "    0    0    0    0    0    0    0    0    0    0    0    0    0    0\n",
      "    0    0    0    0    0    0    0    0    0    0    0    0    0    0\n",
      "    0    0    0    0    0    0    0    0    0    0    0    0    0    0\n",
      "    0    0    0    0    0    0    0    0    0    0    0    0    0    0\n",
      "    0    0    0    0    0    0    0    0    0    0    0    0    0    0\n",
      "    0    0    0    0    0    0    0    0    0    0    0    0    0    0\n",
      "    0    0    0    0    0    0    0    0    0    0    0    0    0    0\n",
      "    0    0    0    0    0    0    0    0    0    0    0    0    0    0\n",
      "    0    0    0    0    0    0    0    0    0    0    0    0    0    0\n",
      "    0    0    0    0    0    0    0    0    0    0    0    0    0    0\n",
      "    0    0    0    0    0    0    0    0    0    0    0    0    0    0\n",
      "    0    0    0    0    0    0    0    0    0    0    0    0    0    0\n",
      "    0    0    0    0    0    0    0    0    0    0    0    0    0    0\n",
      "    0    0    0    0    0    0    0    0    0    0    0    0    0    0\n",
      "    0    0    0    0    0    0    0    0    0    0    0    0    0    0\n",
      "    0    0    0    0    0    0    0    0    0    0    0    0    0    0\n",
      "    0    0    0    0    0    0    0    0    0    0    0    0    0    0\n",
      "    0    0    0    0    0    0    0    0    0    0    0    0    0    0\n",
      "    0    0    0    0    0    0    0    0    0    0    0    0    0    0\n",
      "    0    0    0    0    0    0    0    0    0    0    0    0    0    0\n",
      "    0    0    0    0    0    0    0    0    0    0    0    0    0    0\n",
      "    0    0    0    0    0    0    0    0    0    0    0    0    0    0\n",
      "    0    0    0    0    0    0    0    0    0    0]\n",
      "500\n"
     ]
    }
   ],
   "source": [
    "# Use this cell to examine one of the processed reviews to make sure everything is working as intended.\n",
    "print(train_X[100])\n",
    "print(len(train_X[100]))"
   ]
  },
  {
   "cell_type": "markdown",
   "metadata": {},
   "source": [
    "**Question:** In the cells above we use the `preprocess_data` and `convert_and_pad_data` methods to process both the training and testing set. Why or why not might this be a problem?"
   ]
  },
  {
   "cell_type": "markdown",
   "metadata": {},
   "source": [
    "**Answer:**"
   ]
  },
  {
   "cell_type": "markdown",
   "metadata": {},
   "source": [
    "## Step 3: Upload the data to S3\n",
    "\n",
    "As in the XGBoost notebook, we will need to upload the training dataset to S3 in order for our training code to access it. For now we will save it locally and we will upload to S3 later on.\n",
    "\n",
    "### Save the processed training dataset locally\n",
    "\n",
    "It is important to note the format of the data that we are saving as we will need to know it when we write the training code. In our case, each row of the dataset has the form `label`, `length`, `review[500]` where `review[500]` is a sequence of `500` integers representing the words in the review."
   ]
  },
  {
   "cell_type": "code",
   "execution_count": 32,
   "metadata": {},
   "outputs": [],
   "source": [
    "import pandas as pd\n",
    "    \n",
    "pd.concat([pd.DataFrame(train_y), pd.DataFrame(train_X_len), pd.DataFrame(train_X)], axis=1) \\\n",
    "        .to_csv(os.path.join(data_dir, 'train.csv'), header=False, index=False)"
   ]
  },
  {
   "cell_type": "markdown",
   "metadata": {},
   "source": [
    "### Uploading the training data\n",
    "\n",
    "\n",
    "Next, we need to upload the training data to the SageMaker default S3 bucket so that we can provide access to it while training our model."
   ]
  },
  {
   "cell_type": "code",
   "execution_count": 33,
   "metadata": {},
   "outputs": [],
   "source": [
    "import sagemaker\n",
    "\n",
    "sagemaker_session = sagemaker.Session()\n",
    "\n",
    "bucket = sagemaker_session.default_bucket()\n",
    "prefix = 'sagemaker/sentiment_rnn'\n",
    "\n",
    "role = sagemaker.get_execution_role()"
   ]
  },
  {
   "cell_type": "code",
   "execution_count": 34,
   "metadata": {},
   "outputs": [],
   "source": [
    "input_data = sagemaker_session.upload_data(path=data_dir, bucket=bucket, key_prefix=prefix)"
   ]
  },
  {
   "cell_type": "markdown",
   "metadata": {},
   "source": [
    "**NOTE:** The cell above uploads the entire contents of our data directory. This includes the `word_dict.pkl` file. This is fortunate as we will need this later on when we create an endpoint that accepts an arbitrary review. For now, we will just take note of the fact that it resides in the data directory (and so also in the S3 training bucket) and that we will need to make sure it gets saved in the model directory."
   ]
  },
  {
   "cell_type": "markdown",
   "metadata": {},
   "source": [
    "## Step 4: Build and Train the PyTorch Model\n",
    "\n",
    "In the XGBoost notebook we discussed what a model is in the SageMaker framework. In particular, a model comprises three objects\n",
    "\n",
    " - Model Artifacts,\n",
    " - Training Code, and\n",
    " - Inference Code,\n",
    " \n",
    "each of which interact with one another. In the XGBoost example we used training and inference code that was provided by Amazon. Here we will still be using containers provided by Amazon with the added benefit of being able to include our own custom code.\n",
    "\n",
    "We will start by implementing our own neural network in PyTorch along with a training script. For the purposes of this project we have provided the necessary model object in the `model.py` file, inside of the `train` folder. You can see the provided implementation by running the cell below."
   ]
  },
  {
   "cell_type": "code",
   "execution_count": 35,
   "metadata": {},
   "outputs": [
    {
     "name": "stdout",
     "output_type": "stream",
     "text": [
      "\u001b[34mimport\u001b[39;49;00m \u001b[04m\u001b[36mtorch.nn\u001b[39;49;00m \u001b[34mas\u001b[39;49;00m \u001b[04m\u001b[36mnn\u001b[39;49;00m\r\n",
      "\r\n",
      "\u001b[34mclass\u001b[39;49;00m \u001b[04m\u001b[32mLSTMClassifier\u001b[39;49;00m(nn.Module):\r\n",
      "    \u001b[33m\"\"\"\u001b[39;49;00m\r\n",
      "\u001b[33m    This is the simple RNN model we will be using to perform Sentiment Analysis.\u001b[39;49;00m\r\n",
      "\u001b[33m    \"\"\"\u001b[39;49;00m\r\n",
      "\r\n",
      "    \u001b[34mdef\u001b[39;49;00m \u001b[32m__init__\u001b[39;49;00m(\u001b[36mself\u001b[39;49;00m, embedding_dim, hidden_dim, vocab_size):\r\n",
      "        \u001b[33m\"\"\"\u001b[39;49;00m\r\n",
      "\u001b[33m        Initialize the model by settingg up the various layers.\u001b[39;49;00m\r\n",
      "\u001b[33m        \"\"\"\u001b[39;49;00m\r\n",
      "        \u001b[36msuper\u001b[39;49;00m(LSTMClassifier, \u001b[36mself\u001b[39;49;00m).\u001b[32m__init__\u001b[39;49;00m()\r\n",
      "\r\n",
      "        \u001b[36mself\u001b[39;49;00m.embedding = nn.Embedding(vocab_size, embedding_dim, padding_idx=\u001b[34m0\u001b[39;49;00m)\r\n",
      "        \u001b[36mself\u001b[39;49;00m.lstm = nn.LSTM(embedding_dim, hidden_dim)\r\n",
      "        \u001b[36mself\u001b[39;49;00m.dense = nn.Linear(in_features=hidden_dim, out_features=\u001b[34m1\u001b[39;49;00m)\r\n",
      "        \u001b[36mself\u001b[39;49;00m.sig = nn.Sigmoid()\r\n",
      "        \r\n",
      "        \u001b[36mself\u001b[39;49;00m.word_dict = \u001b[36mNone\u001b[39;49;00m\r\n",
      "\r\n",
      "    \u001b[34mdef\u001b[39;49;00m \u001b[32mforward\u001b[39;49;00m(\u001b[36mself\u001b[39;49;00m, x):\r\n",
      "        \u001b[33m\"\"\"\u001b[39;49;00m\r\n",
      "\u001b[33m        Perform a forward pass of our model on some input.\u001b[39;49;00m\r\n",
      "\u001b[33m        \"\"\"\u001b[39;49;00m\r\n",
      "        x = x.t()\r\n",
      "        lengths = x[\u001b[34m0\u001b[39;49;00m,:]\r\n",
      "        reviews = x[\u001b[34m1\u001b[39;49;00m:,:]\r\n",
      "        embeds = \u001b[36mself\u001b[39;49;00m.embedding(reviews)\r\n",
      "        lstm_out, _ = \u001b[36mself\u001b[39;49;00m.lstm(embeds)\r\n",
      "        out = \u001b[36mself\u001b[39;49;00m.dense(lstm_out)\r\n",
      "        out = out[lengths - \u001b[34m1\u001b[39;49;00m, \u001b[36mrange\u001b[39;49;00m(\u001b[36mlen\u001b[39;49;00m(lengths))]\r\n",
      "        \u001b[34mreturn\u001b[39;49;00m \u001b[36mself\u001b[39;49;00m.sig(out.squeeze())\r\n"
     ]
    }
   ],
   "source": [
    "!pygmentize train/model.py"
   ]
  },
  {
   "cell_type": "markdown",
   "metadata": {},
   "source": [
    "The important takeaway from the implementation provided is that there are three parameters that we may wish to tweak to improve the performance of our model. These are the embedding dimension, the hidden dimension and the size of the vocabulary. We will likely want to make these parameters configurable in the training script so that if we wish to modify them we do not need to modify the script itself. We will see how to do this later on. To start we will write some of the training code in the notebook so that we can more easily diagnose any issues that arise.\n",
    "\n",
    "First we will load a small portion of the training data set to use as a sample. It would be very time consuming to try and train the model completely in the notebook as we do not have access to a gpu and the compute instance that we are using is not particularly powerful. However, we can work on a small bit of the data to get a feel for how our training script is behaving."
   ]
  },
  {
   "cell_type": "code",
   "execution_count": 36,
   "metadata": {},
   "outputs": [],
   "source": [
    "import torch\n",
    "import torch.utils.data\n",
    "\n",
    "# Read in only the first 250 rows\n",
    "train_sample = pd.read_csv(os.path.join(data_dir, 'train.csv'), header=None, names=None, nrows=250)\n",
    "\n",
    "# Turn the input pandas dataframe into tensors\n",
    "train_sample_y = torch.from_numpy(train_sample[[0]].values).float().squeeze()\n",
    "train_sample_X = torch.from_numpy(train_sample.drop([0], axis=1).values).long()\n",
    "\n",
    "# Build the dataset\n",
    "train_sample_ds = torch.utils.data.TensorDataset(train_sample_X, train_sample_y)\n",
    "# Build the dataloader\n",
    "train_sample_dl = torch.utils.data.DataLoader(train_sample_ds, batch_size=50)"
   ]
  },
  {
   "cell_type": "markdown",
   "metadata": {},
   "source": [
    "### (TODO) Writing the training method\n",
    "\n",
    "Next we need to write the training code itself. This should be very similar to training methods that you have written before to train PyTorch models. We will leave any difficult aspects such as model saving / loading and parameter loading until a little later."
   ]
  },
  {
   "cell_type": "code",
   "execution_count": 40,
   "metadata": {},
   "outputs": [],
   "source": [
    "def train(model, train_loader, epochs, optimizer, loss_fn, device):\n",
    "    for epoch in range(1, epochs + 1):\n",
    "        model.train()\n",
    "        total_loss = 0\n",
    "        for batch in train_loader:         \n",
    "            batch_X, batch_y = batch\n",
    "            \n",
    "            batch_X = batch_X.to(device)\n",
    "            batch_y = batch_y.to(device)\n",
    "            \n",
    "            # TODO: Complete this train method to train the model provided.\n",
    "            output = model(batch_X)\n",
    "            loss = loss_fn(output, batch_y)\n",
    "            optimizer.zero_grad()\n",
    "            loss.backward()\n",
    "            optimizer.step()\n",
    "            \n",
    "            total_loss += loss.data.item()\n",
    "        print(\"Epoch: {}, BCELoss: {}\".format(epoch, total_loss / len(train_loader)))"
   ]
  },
  {
   "cell_type": "markdown",
   "metadata": {},
   "source": [
    "Supposing we have the training method above, we will test that it is working by writing a bit of code in the notebook that executes our training method on the small sample training set that we loaded earlier. The reason for doing this in the notebook is so that we have an opportunity to fix any errors that arise early when they are easier to diagnose."
   ]
  },
  {
   "cell_type": "code",
   "execution_count": 41,
   "metadata": {},
   "outputs": [
    {
     "name": "stdout",
     "output_type": "stream",
     "text": [
      "Epoch: 1, BCELoss: 0.6839911222457886\n",
      "Epoch: 2, BCELoss: 0.6736986517906189\n",
      "Epoch: 3, BCELoss: 0.6645892500877381\n",
      "Epoch: 4, BCELoss: 0.6541763067245483\n",
      "Epoch: 5, BCELoss: 0.6410785436630249\n"
     ]
    }
   ],
   "source": [
    "import torch.optim as optim\n",
    "from train.model import LSTMClassifier\n",
    "\n",
    "device = torch.device(\"cuda\" if torch.cuda.is_available() else \"cpu\")\n",
    "model = LSTMClassifier(32, 100, 5000).to(device)\n",
    "optimizer = optim.Adam(model.parameters())\n",
    "loss_fn = torch.nn.BCELoss()\n",
    "\n",
    "train(model, train_sample_dl, 5, optimizer, loss_fn, device)"
   ]
  },
  {
   "cell_type": "markdown",
   "metadata": {},
   "source": [
    "In order to construct a PyTorch model using SageMaker we must provide SageMaker with a training script. We may optionally include a directory which will be copied to the container and from which our training code will be run. When the training container is executed it will check the uploaded directory (if there is one) for a `requirements.txt` file and install any required Python libraries, after which the training script will be run."
   ]
  },
  {
   "cell_type": "markdown",
   "metadata": {},
   "source": [
    "### (TODO) Training the model\n",
    "\n",
    "When a PyTorch model is constructed in SageMaker, an entry point must be specified. This is the Python file which will be executed when the model is trained. Inside of the `train` directory is a file called `train.py` which has been provided and which contains most of the necessary code to train our model. The only thing that is missing is the implementation of the `train()` method which you wrote earlier in this notebook.\n",
    "\n",
    "**TODO**: Copy the `train()` method written above and paste it into the `train/train.py` file where required.\n",
    "\n",
    "The way that SageMaker passes hyperparameters to the training script is by way of arguments. These arguments can then be parsed and used in the training script. To see how this is done take a look at the provided `train/train.py` file."
   ]
  },
  {
   "cell_type": "code",
   "execution_count": 45,
   "metadata": {},
   "outputs": [],
   "source": [
    "from sagemaker.pytorch import PyTorch\n",
    "\n",
    "estimator = PyTorch(entry_point=\"train.py\",\n",
    "                    source_dir=\"train\",\n",
    "                    role=role,\n",
    "                    framework_version='0.4.0',\n",
    "                    train_instance_count=1,\n",
    "                    train_instance_type='ml.p2.xlarge',\n",
    "                    hyperparameters={\n",
    "                        'epochs': 10,\n",
    "                        'hidden_dim': 200,\n",
    "                    })"
   ]
  },
  {
   "cell_type": "code",
   "execution_count": 47,
   "metadata": {},
   "outputs": [
    {
     "ename": "ResourceLimitExceeded",
     "evalue": "An error occurred (ResourceLimitExceeded) when calling the CreateTrainingJob operation: The account-level service limit 'ml.p2.xlarge for training job usage' is 0 Instances, with current utilization of 0 Instances and a request delta of 1 Instances. Please contact AWS support to request an increase for this limit.",
     "output_type": "error",
     "traceback": [
      "\u001b[0;31m---------------------------------------------------------------------------\u001b[0m",
      "\u001b[0;31mResourceLimitExceeded\u001b[0m                     Traceback (most recent call last)",
      "\u001b[0;32m<ipython-input-47-0e8223086435>\u001b[0m in \u001b[0;36m<module>\u001b[0;34m()\u001b[0m\n\u001b[0;32m----> 1\u001b[0;31m \u001b[0mestimator\u001b[0m\u001b[0;34m.\u001b[0m\u001b[0mfit\u001b[0m\u001b[0;34m(\u001b[0m\u001b[0;34m{\u001b[0m\u001b[0;34m'training'\u001b[0m\u001b[0;34m:\u001b[0m \u001b[0minput_data\u001b[0m\u001b[0;34m}\u001b[0m\u001b[0;34m)\u001b[0m\u001b[0;34m\u001b[0m\u001b[0m\n\u001b[0m",
      "\u001b[0;32m~/anaconda3/envs/pytorch_p36/lib/python3.6/site-packages/sagemaker/estimator.py\u001b[0m in \u001b[0;36mfit\u001b[0;34m(self, inputs, wait, logs, job_name, experiment_config)\u001b[0m\n\u001b[1;32m    475\u001b[0m         \u001b[0mself\u001b[0m\u001b[0;34m.\u001b[0m\u001b[0m_prepare_for_training\u001b[0m\u001b[0;34m(\u001b[0m\u001b[0mjob_name\u001b[0m\u001b[0;34m=\u001b[0m\u001b[0mjob_name\u001b[0m\u001b[0;34m)\u001b[0m\u001b[0;34m\u001b[0m\u001b[0m\n\u001b[1;32m    476\u001b[0m \u001b[0;34m\u001b[0m\u001b[0m\n\u001b[0;32m--> 477\u001b[0;31m         \u001b[0mself\u001b[0m\u001b[0;34m.\u001b[0m\u001b[0mlatest_training_job\u001b[0m \u001b[0;34m=\u001b[0m \u001b[0m_TrainingJob\u001b[0m\u001b[0;34m.\u001b[0m\u001b[0mstart_new\u001b[0m\u001b[0;34m(\u001b[0m\u001b[0mself\u001b[0m\u001b[0;34m,\u001b[0m \u001b[0minputs\u001b[0m\u001b[0;34m,\u001b[0m \u001b[0mexperiment_config\u001b[0m\u001b[0;34m)\u001b[0m\u001b[0;34m\u001b[0m\u001b[0m\n\u001b[0m\u001b[1;32m    478\u001b[0m         \u001b[0mself\u001b[0m\u001b[0;34m.\u001b[0m\u001b[0mjobs\u001b[0m\u001b[0;34m.\u001b[0m\u001b[0mappend\u001b[0m\u001b[0;34m(\u001b[0m\u001b[0mself\u001b[0m\u001b[0;34m.\u001b[0m\u001b[0mlatest_training_job\u001b[0m\u001b[0;34m)\u001b[0m\u001b[0;34m\u001b[0m\u001b[0m\n\u001b[1;32m    479\u001b[0m         \u001b[0;32mif\u001b[0m \u001b[0mwait\u001b[0m\u001b[0;34m:\u001b[0m\u001b[0;34m\u001b[0m\u001b[0m\n",
      "\u001b[0;32m~/anaconda3/envs/pytorch_p36/lib/python3.6/site-packages/sagemaker/estimator.py\u001b[0m in \u001b[0;36mstart_new\u001b[0;34m(cls, estimator, inputs, experiment_config)\u001b[0m\n\u001b[1;32m   1042\u001b[0m             \u001b[0mtrain_args\u001b[0m\u001b[0;34m[\u001b[0m\u001b[0;34m\"enable_sagemaker_metrics\"\u001b[0m\u001b[0;34m]\u001b[0m \u001b[0;34m=\u001b[0m \u001b[0mestimator\u001b[0m\u001b[0;34m.\u001b[0m\u001b[0menable_sagemaker_metrics\u001b[0m\u001b[0;34m\u001b[0m\u001b[0m\n\u001b[1;32m   1043\u001b[0m \u001b[0;34m\u001b[0m\u001b[0m\n\u001b[0;32m-> 1044\u001b[0;31m         \u001b[0mestimator\u001b[0m\u001b[0;34m.\u001b[0m\u001b[0msagemaker_session\u001b[0m\u001b[0;34m.\u001b[0m\u001b[0mtrain\u001b[0m\u001b[0;34m(\u001b[0m\u001b[0;34m**\u001b[0m\u001b[0mtrain_args\u001b[0m\u001b[0;34m)\u001b[0m\u001b[0;34m\u001b[0m\u001b[0m\n\u001b[0m\u001b[1;32m   1045\u001b[0m \u001b[0;34m\u001b[0m\u001b[0m\n\u001b[1;32m   1046\u001b[0m         \u001b[0;32mreturn\u001b[0m \u001b[0mcls\u001b[0m\u001b[0;34m(\u001b[0m\u001b[0mestimator\u001b[0m\u001b[0;34m.\u001b[0m\u001b[0msagemaker_session\u001b[0m\u001b[0;34m,\u001b[0m \u001b[0mestimator\u001b[0m\u001b[0;34m.\u001b[0m\u001b[0m_current_job_name\u001b[0m\u001b[0;34m)\u001b[0m\u001b[0;34m\u001b[0m\u001b[0m\n",
      "\u001b[0;32m~/anaconda3/envs/pytorch_p36/lib/python3.6/site-packages/sagemaker/session.py\u001b[0m in \u001b[0;36mtrain\u001b[0;34m(self, input_mode, input_config, role, job_name, output_config, resource_config, vpc_config, hyperparameters, stop_condition, tags, metric_definitions, enable_network_isolation, image, algorithm_arn, encrypt_inter_container_traffic, train_use_spot_instances, checkpoint_s3_uri, checkpoint_local_path, experiment_config, debugger_rule_configs, debugger_hook_config, tensorboard_output_config, enable_sagemaker_metrics)\u001b[0m\n\u001b[1;32m    588\u001b[0m         \u001b[0mLOGGER\u001b[0m\u001b[0;34m.\u001b[0m\u001b[0minfo\u001b[0m\u001b[0;34m(\u001b[0m\u001b[0;34m\"Creating training-job with name: %s\"\u001b[0m\u001b[0;34m,\u001b[0m \u001b[0mjob_name\u001b[0m\u001b[0;34m)\u001b[0m\u001b[0;34m\u001b[0m\u001b[0m\n\u001b[1;32m    589\u001b[0m         \u001b[0mLOGGER\u001b[0m\u001b[0;34m.\u001b[0m\u001b[0mdebug\u001b[0m\u001b[0;34m(\u001b[0m\u001b[0;34m\"train request: %s\"\u001b[0m\u001b[0;34m,\u001b[0m \u001b[0mjson\u001b[0m\u001b[0;34m.\u001b[0m\u001b[0mdumps\u001b[0m\u001b[0;34m(\u001b[0m\u001b[0mtrain_request\u001b[0m\u001b[0;34m,\u001b[0m \u001b[0mindent\u001b[0m\u001b[0;34m=\u001b[0m\u001b[0;36m4\u001b[0m\u001b[0;34m)\u001b[0m\u001b[0;34m)\u001b[0m\u001b[0;34m\u001b[0m\u001b[0m\n\u001b[0;32m--> 590\u001b[0;31m         \u001b[0mself\u001b[0m\u001b[0;34m.\u001b[0m\u001b[0msagemaker_client\u001b[0m\u001b[0;34m.\u001b[0m\u001b[0mcreate_training_job\u001b[0m\u001b[0;34m(\u001b[0m\u001b[0;34m**\u001b[0m\u001b[0mtrain_request\u001b[0m\u001b[0;34m)\u001b[0m\u001b[0;34m\u001b[0m\u001b[0m\n\u001b[0m\u001b[1;32m    591\u001b[0m \u001b[0;34m\u001b[0m\u001b[0m\n\u001b[1;32m    592\u001b[0m     def process(\n",
      "\u001b[0;32m~/anaconda3/envs/pytorch_p36/lib/python3.6/site-packages/botocore/client.py\u001b[0m in \u001b[0;36m_api_call\u001b[0;34m(self, *args, **kwargs)\u001b[0m\n\u001b[1;32m    314\u001b[0m                     \"%s() only accepts keyword arguments.\" % py_operation_name)\n\u001b[1;32m    315\u001b[0m             \u001b[0;31m# The \"self\" in this scope is referring to the BaseClient.\u001b[0m\u001b[0;34m\u001b[0m\u001b[0;34m\u001b[0m\u001b[0m\n\u001b[0;32m--> 316\u001b[0;31m             \u001b[0;32mreturn\u001b[0m \u001b[0mself\u001b[0m\u001b[0;34m.\u001b[0m\u001b[0m_make_api_call\u001b[0m\u001b[0;34m(\u001b[0m\u001b[0moperation_name\u001b[0m\u001b[0;34m,\u001b[0m \u001b[0mkwargs\u001b[0m\u001b[0;34m)\u001b[0m\u001b[0;34m\u001b[0m\u001b[0m\n\u001b[0m\u001b[1;32m    317\u001b[0m \u001b[0;34m\u001b[0m\u001b[0m\n\u001b[1;32m    318\u001b[0m         \u001b[0m_api_call\u001b[0m\u001b[0;34m.\u001b[0m\u001b[0m__name__\u001b[0m \u001b[0;34m=\u001b[0m \u001b[0mstr\u001b[0m\u001b[0;34m(\u001b[0m\u001b[0mpy_operation_name\u001b[0m\u001b[0;34m)\u001b[0m\u001b[0;34m\u001b[0m\u001b[0m\n",
      "\u001b[0;32m~/anaconda3/envs/pytorch_p36/lib/python3.6/site-packages/botocore/client.py\u001b[0m in \u001b[0;36m_make_api_call\u001b[0;34m(self, operation_name, api_params)\u001b[0m\n\u001b[1;32m    624\u001b[0m             \u001b[0merror_code\u001b[0m \u001b[0;34m=\u001b[0m \u001b[0mparsed_response\u001b[0m\u001b[0;34m.\u001b[0m\u001b[0mget\u001b[0m\u001b[0;34m(\u001b[0m\u001b[0;34m\"Error\"\u001b[0m\u001b[0;34m,\u001b[0m \u001b[0;34m{\u001b[0m\u001b[0;34m}\u001b[0m\u001b[0;34m)\u001b[0m\u001b[0;34m.\u001b[0m\u001b[0mget\u001b[0m\u001b[0;34m(\u001b[0m\u001b[0;34m\"Code\"\u001b[0m\u001b[0;34m)\u001b[0m\u001b[0;34m\u001b[0m\u001b[0m\n\u001b[1;32m    625\u001b[0m             \u001b[0merror_class\u001b[0m \u001b[0;34m=\u001b[0m \u001b[0mself\u001b[0m\u001b[0;34m.\u001b[0m\u001b[0mexceptions\u001b[0m\u001b[0;34m.\u001b[0m\u001b[0mfrom_code\u001b[0m\u001b[0;34m(\u001b[0m\u001b[0merror_code\u001b[0m\u001b[0;34m)\u001b[0m\u001b[0;34m\u001b[0m\u001b[0m\n\u001b[0;32m--> 626\u001b[0;31m             \u001b[0;32mraise\u001b[0m \u001b[0merror_class\u001b[0m\u001b[0;34m(\u001b[0m\u001b[0mparsed_response\u001b[0m\u001b[0;34m,\u001b[0m \u001b[0moperation_name\u001b[0m\u001b[0;34m)\u001b[0m\u001b[0;34m\u001b[0m\u001b[0m\n\u001b[0m\u001b[1;32m    627\u001b[0m         \u001b[0;32melse\u001b[0m\u001b[0;34m:\u001b[0m\u001b[0;34m\u001b[0m\u001b[0m\n\u001b[1;32m    628\u001b[0m             \u001b[0;32mreturn\u001b[0m \u001b[0mparsed_response\u001b[0m\u001b[0;34m\u001b[0m\u001b[0m\n",
      "\u001b[0;31mResourceLimitExceeded\u001b[0m: An error occurred (ResourceLimitExceeded) when calling the CreateTrainingJob operation: The account-level service limit 'ml.p2.xlarge for training job usage' is 0 Instances, with current utilization of 0 Instances and a request delta of 1 Instances. Please contact AWS support to request an increase for this limit."
     ]
    }
   ],
   "source": [
    "estimator.fit({'training': input_data})"
   ]
  },
  {
   "cell_type": "markdown",
   "metadata": {},
   "source": [
    "## Step 5: Testing the model\n",
    "\n",
    "As mentioned at the top of this notebook, we will be testing this model by first deploying it and then sending the testing data to the deployed endpoint. We will do this so that we can make sure that the deployed model is working correctly.\n",
    "\n",
    "## Step 6: Deploy the model for testing\n",
    "\n",
    "Now that we have trained our model, we would like to test it to see how it performs. Currently our model takes input of the form `review_length, review[500]` where `review[500]` is a sequence of `500` integers which describe the words present in the review, encoded using `word_dict`. Fortunately for us, SageMaker provides built-in inference code for models with simple inputs such as this.\n",
    "\n",
    "There is one thing that we need to provide, however, and that is a function which loads the saved model. This function must be called `model_fn()` and takes as its only parameter a path to the directory where the model artifacts are stored. This function must also be present in the python file which we specified as the entry point. In our case the model loading function has been provided and so no changes need to be made.\n",
    "\n",
    "**NOTE**: When the built-in inference code is run it must import the `model_fn()` method from the `train.py` file. This is why the training code is wrapped in a main guard ( ie, `if __name__ == '__main__':` )\n",
    "\n",
    "Since we don't need to change anything in the code that was uploaded during training, we can simply deploy the current model as-is.\n",
    "\n",
    "**NOTE:** When deploying a model you are asking SageMaker to launch an compute instance that will wait for data to be sent to it. As a result, this compute instance will continue to run until *you* shut it down. This is important to know since the cost of a deployed endpoint depends on how long it has been running for.\n",
    "\n",
    "In other words **If you are no longer using a deployed endpoint, shut it down!**\n",
    "\n",
    "**TODO:** Deploy the trained model."
   ]
  },
  {
   "cell_type": "code",
   "execution_count": null,
   "metadata": {},
   "outputs": [],
   "source": [
    "# TODO: Deploy the trained model\n",
    "predictor = estimator.deploy(initial_instance_count=1, instance_type='ml.t2.medium')"
   ]
  },
  {
   "cell_type": "markdown",
   "metadata": {},
   "source": [
    "## Step 7 - Use the model for testing\n",
    "\n",
    "Once deployed, we can read in the test data and send it off to our deployed model to get some results. Once we collect all of the results we can determine how accurate our model is."
   ]
  },
  {
   "cell_type": "code",
   "execution_count": null,
   "metadata": {},
   "outputs": [],
   "source": [
    "test_X = pd.concat([pd.DataFrame(test_X_len), pd.DataFrame(test_X)], axis=1)"
   ]
  },
  {
   "cell_type": "code",
   "execution_count": null,
   "metadata": {},
   "outputs": [],
   "source": [
    "# We split the data into chunks and send each chunk seperately, accumulating the results.\n",
    "\n",
    "def predict(data, rows=512):\n",
    "    split_array = np.array_split(data, int(data.shape[0] / float(rows) + 1))\n",
    "    predictions = np.array([])\n",
    "    for array in split_array:\n",
    "        predictions = np.append(predictions, predictor.predict(array))\n",
    "    \n",
    "    return predictions"
   ]
  },
  {
   "cell_type": "code",
   "execution_count": null,
   "metadata": {},
   "outputs": [],
   "source": [
    "predictions = predict(test_X.values)\n",
    "predictions = [round(num) for num in predictions]"
   ]
  },
  {
   "cell_type": "code",
   "execution_count": null,
   "metadata": {},
   "outputs": [],
   "source": [
    "from sklearn.metrics import accuracy_score\n",
    "accuracy_score(test_y, predictions)"
   ]
  },
  {
   "cell_type": "markdown",
   "metadata": {},
   "source": [
    "**Question:** How does this model compare to the XGBoost model you created earlier? Why might these two models perform differently on this dataset? Which do *you* think is better for sentiment analysis?"
   ]
  },
  {
   "cell_type": "markdown",
   "metadata": {},
   "source": [
    "**Answer:**"
   ]
  },
  {
   "cell_type": "markdown",
   "metadata": {},
   "source": [
    "### (TODO) More testing\n",
    "\n",
    "We now have a trained model which has been deployed and which we can send processed reviews to and which returns the predicted sentiment. However, ultimately we would like to be able to send our model an unprocessed review. That is, we would like to send the review itself as a string. For example, suppose we wish to send the following review to our model."
   ]
  },
  {
   "cell_type": "code",
   "execution_count": null,
   "metadata": {},
   "outputs": [],
   "source": [
    "test_review = 'The simplest pleasures in life are the best, and this film is one of them. Combining a rather basic storyline of love and adventure this movie transcends the usual weekend fair with wit and unmitigated charm.'"
   ]
  },
  {
   "cell_type": "markdown",
   "metadata": {},
   "source": [
    "The question we now need to answer is, how do we send this review to our model?\n",
    "\n",
    "Recall in the first section of this notebook we did a bunch of data processing to the IMDb dataset. In particular, we did two specific things to the provided reviews.\n",
    " - Removed any html tags and stemmed the input\n",
    " - Encoded the review as a sequence of integers using `word_dict`\n",
    " \n",
    "In order process the review we will need to repeat these two steps.\n",
    "\n",
    "**TODO**: Using the `review_to_words` and `convert_and_pad` methods from section one, convert `test_review` into a numpy array `test_data` suitable to send to our model. Remember that our model expects input of the form `review_length, review[500]`."
   ]
  },
  {
   "cell_type": "code",
   "execution_count": null,
   "metadata": {},
   "outputs": [],
   "source": [
    "# TODO: Convert test_review into a form usable by the model and save the results in test_data\n",
    "test_data = None\n",
    "convert_pad = convert_and_pad(word_dict,review_to_words(test_review))\n",
    "test_X_sample = np.asarray(convert_pad[0])[None]\n",
    "test_X_sample_len = np.asarray(convert_pad[1])[None]\n",
    "test_data = pd.concat([pd.DataFrame(test_X_sample_len), pd.DataFrame(test_X_sample)], axis=1)"
   ]
  },
  {
   "cell_type": "markdown",
   "metadata": {},
   "source": [
    "Now that we have processed the review, we can send the resulting array to our model to predict the sentiment of the review."
   ]
  },
  {
   "cell_type": "code",
   "execution_count": null,
   "metadata": {},
   "outputs": [],
   "source": [
    "predictor.predict(test_data)"
   ]
  },
  {
   "cell_type": "markdown",
   "metadata": {},
   "source": [
    "Since the return value of our model is close to `1`, we can be certain that the review we submitted is positive."
   ]
  },
  {
   "cell_type": "markdown",
   "metadata": {},
   "source": [
    "### Delete the endpoint\n",
    "\n",
    "Of course, just like in the XGBoost notebook, once we've deployed an endpoint it continues to run until we tell it to shut down. Since we are done using our endpoint for now, we can delete it."
   ]
  },
  {
   "cell_type": "code",
   "execution_count": null,
   "metadata": {},
   "outputs": [],
   "source": [
    "estimator.delete_endpoint()"
   ]
  },
  {
   "cell_type": "markdown",
   "metadata": {},
   "source": [
    "## Step 6 (again) - Deploy the model for the web app\n",
    "\n",
    "Now that we know that our model is working, it's time to create some custom inference code so that we can send the model a review which has not been processed and have it determine the sentiment of the review.\n",
    "\n",
    "As we saw above, by default the estimator which we created, when deployed, will use the entry script and directory which we provided when creating the model. However, since we now wish to accept a string as input and our model expects a processed review, we need to write some custom inference code.\n",
    "\n",
    "We will store the code that we write in the `serve` directory. Provided in this directory is the `model.py` file that we used to construct our model, a `utils.py` file which contains the `review_to_words` and `convert_and_pad` pre-processing functions which we used during the initial data processing, and `predict.py`, the file which will contain our custom inference code. Note also that `requirements.txt` is present which will tell SageMaker what Python libraries are required by our custom inference code.\n",
    "\n",
    "When deploying a PyTorch model in SageMaker, you are expected to provide four functions which the SageMaker inference container will use.\n",
    " - `model_fn`: This function is the same function that we used in the training script and it tells SageMaker how to load our model.\n",
    " - `input_fn`: This function receives the raw serialized input that has been sent to the model's endpoint and its job is to de-serialize and make the input available for the inference code.\n",
    " - `output_fn`: This function takes the output of the inference code and its job is to serialize this output and return it to the caller of the model's endpoint.\n",
    " - `predict_fn`: The heart of the inference script, this is where the actual prediction is done and is the function which you will need to complete.\n",
    "\n",
    "For the simple website that we are constructing during this project, the `input_fn` and `output_fn` methods are relatively straightforward. We only require being able to accept a string as input and we expect to return a single value as output. You might imagine though that in a more complex application the input or output may be image data or some other binary data which would require some effort to serialize.\n",
    "\n",
    "### (TODO) Writing inference code\n",
    "\n",
    "Before writing our custom inference code, we will begin by taking a look at the code which has been provided."
   ]
  },
  {
   "cell_type": "code",
   "execution_count": null,
   "metadata": {},
   "outputs": [],
   "source": [
    "!pygmentize serve/predict.py"
   ]
  },
  {
   "cell_type": "markdown",
   "metadata": {},
   "source": [
    "As mentioned earlier, the `model_fn` method is the same as the one provided in the training code and the `input_fn` and `output_fn` methods are very simple and your task will be to complete the `predict_fn` method. Make sure that you save the completed file as `predict.py` in the `serve` directory.\n",
    "\n",
    "**TODO**: Complete the `predict_fn()` method in the `serve/predict.py` file."
   ]
  },
  {
   "cell_type": "markdown",
   "metadata": {},
   "source": [
    "### Deploying the model\n",
    "\n",
    "Now that the custom inference code has been written, we will create and deploy our model. To begin with, we need to construct a new PyTorchModel object which points to the model artifacts created during training and also points to the inference code that we wish to use. Then we can call the deploy method to launch the deployment container.\n",
    "\n",
    "**NOTE**: The default behaviour for a deployed PyTorch model is to assume that any input passed to the predictor is a `numpy` array. In our case we want to send a string so we need to construct a simple wrapper around the `RealTimePredictor` class to accomodate simple strings. In a more complicated situation you may want to provide a serialization object, for example if you wanted to sent image data."
   ]
  },
  {
   "cell_type": "code",
   "execution_count": null,
   "metadata": {},
   "outputs": [],
   "source": [
    "from sagemaker.predictor import RealTimePredictor\n",
    "from sagemaker.pytorch import PyTorchModel\n",
    "\n",
    "class StringPredictor(RealTimePredictor):\n",
    "    def __init__(self, endpoint_name, sagemaker_session):\n",
    "        super(StringPredictor, self).__init__(endpoint_name, sagemaker_session, content_type='text/plain')\n",
    "\n",
    "model = PyTorchModel(model_data=estimator.model_data,\n",
    "                     role = role,\n",
    "                     framework_version='0.4.0',\n",
    "                     entry_point='predict.py',\n",
    "                     source_dir='serve',\n",
    "                     predictor_cls=StringPredictor)\n",
    "predictor = model.deploy(initial_instance_count=1, instance_type='ml.m4.xlarge')"
   ]
  },
  {
   "cell_type": "markdown",
   "metadata": {},
   "source": [
    "### Testing the model\n",
    "\n",
    "Now that we have deployed our model with the custom inference code, we should test to see if everything is working. Here we test our model by loading the first `250` positive and negative reviews and send them to the endpoint, then collect the results. The reason for only sending some of the data is that the amount of time it takes for our model to process the input and then perform inference is quite long and so testing the entire data set would be prohibitive."
   ]
  },
  {
   "cell_type": "code",
   "execution_count": null,
   "metadata": {},
   "outputs": [],
   "source": [
    "import glob\n",
    "\n",
    "def test_reviews(data_dir='../data/aclImdb', stop=250):\n",
    "    \n",
    "    results = []\n",
    "    ground = []\n",
    "    \n",
    "    # We make sure to test both positive and negative reviews    \n",
    "    for sentiment in ['pos', 'neg']:\n",
    "        \n",
    "        path = os.path.join(data_dir, 'test', sentiment, '*.txt')\n",
    "        files = glob.glob(path)\n",
    "        \n",
    "        files_read = 0\n",
    "        \n",
    "        print('Starting ', sentiment, ' files')\n",
    "        \n",
    "        # Iterate through the files and send them to the predictor\n",
    "        for f in files:\n",
    "            with open(f) as review:\n",
    "                # First, we store the ground truth (was the review positive or negative)\n",
    "                if sentiment == 'pos':\n",
    "                    ground.append(1)\n",
    "                else:\n",
    "                    ground.append(0)\n",
    "                # Read in the review and convert to 'utf-8' for transmission via HTTP\n",
    "                review_input = review.read().encode('utf-8')\n",
    "                # Send the review to the predictor and store the results\n",
    "                results.append(int(predictor.predict(review_input)))\n",
    "                \n",
    "            # Sending reviews to our endpoint one at a time takes a while so we\n",
    "            # only send a small number of reviews\n",
    "            files_read += 1\n",
    "            if files_read == stop:\n",
    "                break\n",
    "            \n",
    "    return ground, results"
   ]
  },
  {
   "cell_type": "code",
   "execution_count": null,
   "metadata": {},
   "outputs": [],
   "source": [
    "ground, results = test_reviews()"
   ]
  },
  {
   "cell_type": "code",
   "execution_count": null,
   "metadata": {},
   "outputs": [],
   "source": [
    "from sklearn.metrics import accuracy_score\n",
    "accuracy_score(ground, results)"
   ]
  },
  {
   "cell_type": "markdown",
   "metadata": {},
   "source": [
    "As an additional test, we can try sending the `test_review` that we looked at earlier."
   ]
  },
  {
   "cell_type": "code",
   "execution_count": null,
   "metadata": {},
   "outputs": [],
   "source": [
    "predictor.predict(test_review)"
   ]
  },
  {
   "cell_type": "markdown",
   "metadata": {},
   "source": [
    "Now that we know our endpoint is working as expected, we can set up the web page that will interact with it. If you don't have time to finish the project now, make sure to skip down to the end of this notebook and shut down your endpoint. You can deploy it again when you come back."
   ]
  },
  {
   "cell_type": "markdown",
   "metadata": {},
   "source": [
    "## Step 7 (again): Use the model for the web app\n",
    "\n",
    "> **TODO:** This entire section and the next contain tasks for you to complete, mostly using the AWS console.\n",
    "\n",
    "So far we have been accessing our model endpoint by constructing a predictor object which uses the endpoint and then just using the predictor object to perform inference. What if we wanted to create a web app which accessed our model? The way things are set up currently makes that not possible since in order to access a SageMaker endpoint the app would first have to authenticate with AWS using an IAM role which included access to SageMaker endpoints. However, there is an easier way! We just need to use some additional AWS services.\n",
    "\n",
    "<img src=\"Web App Diagram.svg\">\n",
    "\n",
    "The diagram above gives an overview of how the various services will work together. On the far right is the model which we trained above and which is deployed using SageMaker. On the far left is our web app that collects a user's movie review, sends it off and expects a positive or negative sentiment in return.\n",
    "\n",
    "In the middle is where some of the magic happens. We will construct a Lambda function, which you can think of as a straightforward Python function that can be executed whenever a specified event occurs. We will give this function permission to send and recieve data from a SageMaker endpoint.\n",
    "\n",
    "Lastly, the method we will use to execute the Lambda function is a new endpoint that we will create using API Gateway. This endpoint will be a url that listens for data to be sent to it. Once it gets some data it will pass that data on to the Lambda function and then return whatever the Lambda function returns. Essentially it will act as an interface that lets our web app communicate with the Lambda function.\n",
    "\n",
    "### Setting up a Lambda function\n",
    "\n",
    "The first thing we are going to do is set up a Lambda function. This Lambda function will be executed whenever our public API has data sent to it. When it is executed it will receive the data, perform any sort of processing that is required, send the data (the review) to the SageMaker endpoint we've created and then return the result.\n",
    "\n",
    "#### Part A: Create an IAM Role for the Lambda function\n",
    "\n",
    "Since we want the Lambda function to call a SageMaker endpoint, we need to make sure that it has permission to do so. To do this, we will construct a role that we can later give the Lambda function.\n",
    "\n",
    "Using the AWS Console, navigate to the **IAM** page and click on **Roles**. Then, click on **Create role**. Make sure that the **AWS service** is the type of trusted entity selected and choose **Lambda** as the service that will use this role, then click **Next: Permissions**.\n",
    "\n",
    "In the search box type `sagemaker` and select the check box next to the **AmazonSageMakerFullAccess** policy. Then, click on **Next: Review**.\n",
    "\n",
    "Lastly, give this role a name. Make sure you use a name that you will remember later on, for example `LambdaSageMakerRole`. Then, click on **Create role**.\n",
    "\n",
    "#### Part B: Create a Lambda function\n",
    "\n",
    "Now it is time to actually create the Lambda function.\n",
    "\n",
    "Using the AWS Console, navigate to the AWS Lambda page and click on **Create a function**. When you get to the next page, make sure that **Author from scratch** is selected. Now, name your Lambda function, using a name that you will remember later on, for example `sentiment_analysis_func`. Make sure that the **Python 3.6** runtime is selected and then choose the role that you created in the previous part. Then, click on **Create Function**.\n",
    "\n",
    "On the next page you will see some information about the Lambda function you've just created. If you scroll down you should see an editor in which you can write the code that will be executed when your Lambda function is triggered. In our example, we will use the code below. \n",
    "\n",
    "```python\n",
    "# We need to use the low-level library to interact with SageMaker since the SageMaker API\n",
    "# is not available natively through Lambda.\n",
    "import boto3\n",
    "\n",
    "def lambda_handler(event, context):\n",
    "\n",
    "    # The SageMaker runtime is what allows us to invoke the endpoint that we've created.\n",
    "    runtime = boto3.Session().client('sagemaker-runtime')\n",
    "\n",
    "    # Now we use the SageMaker runtime to invoke our endpoint, sending the review we were given\n",
    "    response = runtime.invoke_endpoint(EndpointName = '**ENDPOINT NAME HERE**',    # The name of the endpoint we created\n",
    "                                       ContentType = 'text/plain',                 # The data format that is expected\n",
    "                                       Body = event['body'])                       # The actual review\n",
    "\n",
    "    # The response is an HTTP response whose body contains the result of our inference\n",
    "    result = response['Body'].read().decode('utf-8')\n",
    "\n",
    "    return {\n",
    "        'statusCode' : 200,\n",
    "        'headers' : { 'Content-Type' : 'text/plain', 'Access-Control-Allow-Origin' : '*' },\n",
    "        'body' : result\n",
    "    }\n",
    "```\n",
    "\n",
    "Once you have copy and pasted the code above into the Lambda code editor, replace the `**ENDPOINT NAME HERE**` portion with the name of the endpoint that we deployed earlier. You can determine the name of the endpoint using the code cell below."
   ]
  },
  {
   "cell_type": "code",
   "execution_count": null,
   "metadata": {},
   "outputs": [],
   "source": [
    "predictor.endpoint"
   ]
  },
  {
   "cell_type": "markdown",
   "metadata": {},
   "source": [
    "Once you have added the endpoint name to the Lambda function, click on **Save**. Your Lambda function is now up and running. Next we need to create a way for our web app to execute the Lambda function.\n",
    "\n",
    "### Setting up API Gateway\n",
    "\n",
    "Now that our Lambda function is set up, it is time to create a new API using API Gateway that will trigger the Lambda function we have just created.\n",
    "\n",
    "Using AWS Console, navigate to **Amazon API Gateway** and then click on **Get started**.\n",
    "\n",
    "On the next page, make sure that **New API** is selected and give the new api a name, for example, `sentiment_analysis_api`. Then, click on **Create API**.\n",
    "\n",
    "Now we have created an API, however it doesn't currently do anything. What we want it to do is to trigger the Lambda function that we created earlier.\n",
    "\n",
    "Select the **Actions** dropdown menu and click **Create Method**. A new blank method will be created, select its dropdown menu and select **POST**, then click on the check mark beside it.\n",
    "\n",
    "For the integration point, make sure that **Lambda Function** is selected and click on the **Use Lambda Proxy integration**. This option makes sure that the data that is sent to the API is then sent directly to the Lambda function with no processing. It also means that the return value must be a proper response object as it will also not be processed by API Gateway.\n",
    "\n",
    "Type the name of the Lambda function you created earlier into the **Lambda Function** text entry box and then click on **Save**. Click on **OK** in the pop-up box that then appears, giving permission to API Gateway to invoke the Lambda function you created.\n",
    "\n",
    "The last step in creating the API Gateway is to select the **Actions** dropdown and click on **Deploy API**. You will need to create a new Deployment stage and name it anything you like, for example `prod`.\n",
    "\n",
    "You have now successfully set up a public API to access your SageMaker model. Make sure to copy or write down the URL provided to invoke your newly created public API as this will be needed in the next step. This URL can be found at the top of the page, highlighted in blue next to the text **Invoke URL**."
   ]
  },
  {
   "cell_type": "markdown",
   "metadata": {},
   "source": [
    "## Step 4: Deploying our web app\n",
    "\n",
    "Now that we have a publicly available API, we can start using it in a web app. For our purposes, we have provided a simple static html file which can make use of the public api you created earlier.\n",
    "\n",
    "In the `website` folder there should be a file called `index.html`. Download the file to your computer and open that file up in a text editor of your choice. There should be a line which contains **\\*\\*REPLACE WITH PUBLIC API URL\\*\\***. Replace this string with the url that you wrote down in the last step and then save the file.\n",
    "\n",
    "Now, if you open `index.html` on your local computer, your browser will behave as a local web server and you can use the provided site to interact with your SageMaker model.\n",
    "\n",
    "If you'd like to go further, you can host this html file anywhere you'd like, for example using github or hosting a static site on Amazon's S3. Once you have done this you can share the link with anyone you'd like and have them play with it too!\n",
    "\n",
    "> **Important Note** In order for the web app to communicate with the SageMaker endpoint, the endpoint has to actually be deployed and running. This means that you are paying for it. Make sure that the endpoint is running when you want to use the web app but that you shut it down when you don't need it, otherwise you will end up with a surprisingly large AWS bill.\n",
    "\n",
    "**TODO:** Make sure that you include the edited `index.html` file in your project submission."
   ]
  },
  {
   "cell_type": "markdown",
   "metadata": {},
   "source": [
    "Now that your web app is working, trying playing around with it and see how well it works.\n",
    "\n",
    "**Question**: Give an example of a review that you entered into your web app. What was the predicted sentiment of your example review?"
   ]
  },
  {
   "cell_type": "markdown",
   "metadata": {},
   "source": [
    "**Answer:**"
   ]
  },
  {
   "cell_type": "markdown",
   "metadata": {},
   "source": [
    "### Delete the endpoint\n",
    "\n",
    "Remember to always shut down your endpoint if you are no longer using it. You are charged for the length of time that the endpoint is running so if you forget and leave it on you could end up with an unexpectedly large bill."
   ]
  },
  {
   "cell_type": "code",
   "execution_count": null,
   "metadata": {},
   "outputs": [],
   "source": [
    "predictor.delete_endpoint()"
   ]
  },
  {
   "cell_type": "code",
   "execution_count": null,
   "metadata": {},
   "outputs": [],
   "source": []
  }
 ],
 "metadata": {
  "kernelspec": {
   "display_name": "conda_pytorch_p36",
   "language": "python",
   "name": "conda_pytorch_p36"
  },
  "language_info": {
   "codemirror_mode": {
    "name": "ipython",
    "version": 3
   },
   "file_extension": ".py",
   "mimetype": "text/x-python",
   "name": "python",
   "nbconvert_exporter": "python",
   "pygments_lexer": "ipython3",
   "version": "3.6.5"
  }
 },
 "nbformat": 4,
 "nbformat_minor": 2
}
